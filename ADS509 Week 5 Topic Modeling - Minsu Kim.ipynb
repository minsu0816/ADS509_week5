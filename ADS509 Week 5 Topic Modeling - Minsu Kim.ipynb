{
 "cells": [
  {
   "cell_type": "markdown",
   "id": "bce2bb89",
   "metadata": {},
   "source": [
    "# ADS 509 Assignment 5.1: Topic Modeling\n",
    "\n",
    "This notebook holds Assignment 5.1 for Module 5 in ADS 509, Applied Text Mining. Work through this notebook, writing code and answering questions where required. \n",
    "\n",
    "In this assignment you will work with a categorical corpus that accompanies `nltk`. You will build the three types of topic models described in Chapter 8 of _Blueprints for Text Analytics using Python_: NMF, LSA, and LDA. You will compare these models to the true categories. \n"
   ]
  },
  {
   "cell_type": "markdown",
   "id": "d87e2c06",
   "metadata": {},
   "source": [
    "## General Assignment Instructions\n",
    "\n",
    "These instructions are included in every assignment, to remind you of the coding standards for the class. Feel free to delete this cell after reading it. \n",
    "\n",
    "One sign of mature code is conforming to a style guide. We recommend the [Google Python Style Guide](https://google.github.io/styleguide/pyguide.html). If you use a different style guide, please include a cell with a link. \n",
    "\n",
    "Your code should be relatively easy-to-read, sensibly commented, and clean. Writing code is a messy process, so please be sure to edit your final submission. Remove any cells that are not needed or parts of cells that contain unnecessary code. Remove inessential `import` statements and make sure that all such statements are moved into the designated cell. \n",
    "\n",
    "Make use of non-code cells for written commentary. These cells should be grammatical and clearly written. In some of these cells you will have questions to answer. The questions will be marked by a \"Q:\" and will have a corresponding \"A:\" spot for you. *Make sure to answer every question marked with a `Q:` for full credit.* \n"
   ]
  },
  {
   "cell_type": "code",
   "execution_count": 1,
   "id": "0149e5ae",
   "metadata": {},
   "outputs": [
    {
     "name": "stderr",
     "output_type": "stream",
     "text": [
      "<frozen importlib._bootstrap>:228: RuntimeWarning: scipy._lib.messagestream.MessageStream size changed, may indicate binary incompatibility. Expected 56 from C header, got 64 from PyObject\n"
     ]
    }
   ],
   "source": [
    "from nltk.corpus import brown\n",
    "\n",
    "import numpy as np\n",
    "import pandas as pd\n",
    "from tqdm.auto import tqdm"
   ]
  },
  {
   "cell_type": "code",
   "execution_count": 2,
   "id": "a85bce08",
   "metadata": {},
   "outputs": [],
   "source": [
    "import pyLDAvis\n",
    "import pyLDAvis.lda_model\n",
    "import pyLDAvis.gensim_models\n",
    "\n",
    "import spacy\n",
    "from sklearn.feature_extraction.text import TfidfVectorizer, CountVectorizer\n",
    "from sklearn.decomposition import NMF, TruncatedSVD, LatentDirichletAllocation\n",
    "\n",
    "from spacy.lang.en.stop_words import STOP_WORDS as stopwords\n",
    "\n",
    "from collections import Counter, defaultdict"
   ]
  },
  {
   "cell_type": "code",
   "execution_count": 3,
   "id": "deb2df19",
   "metadata": {},
   "outputs": [],
   "source": [
    "nlp = spacy.load('en_core_web_sm')"
   ]
  },
  {
   "cell_type": "code",
   "execution_count": null,
   "id": "a218df60",
   "metadata": {},
   "outputs": [],
   "source": [
    "# add any additional libaries you need here\n",
    "\n"
   ]
  },
  {
   "cell_type": "code",
   "execution_count": 4,
   "id": "494de237",
   "metadata": {},
   "outputs": [],
   "source": [
    "# This function comes from the BTAP repo.\n",
    "\n",
    "def display_topics(model, features, no_top_words=5):\n",
    "    for topic, words in enumerate(model.components_):\n",
    "        total = words.sum()\n",
    "        largest = words.argsort()[::-1] # invert sort order\n",
    "        print(\"\\nTopic %02d\" % topic)\n",
    "        for i in range(0, no_top_words):\n",
    "            print(\"  %s (%2.2f)\" % (features[largest[i]], abs(words[largest[i]]*100.0/total)))"
   ]
  },
  {
   "cell_type": "markdown",
   "id": "a30a901c",
   "metadata": {},
   "source": [
    "## Getting to Know the Brown Corpus\n",
    "\n",
    "Let's spend a bit of time getting to know what's in the Brown corpus, our NLTK example of an \"overlapping\" corpus."
   ]
  },
  {
   "cell_type": "code",
   "execution_count": 5,
   "id": "5029afa2",
   "metadata": {},
   "outputs": [
    {
     "name": "stderr",
     "output_type": "stream",
     "text": [
      "[nltk_data] Downloading package brown to\n",
      "[nltk_data]     C:\\Users\\MinsuKim\\AppData\\Roaming\\nltk_data...\n",
      "[nltk_data]   Package brown is already up-to-date!\n"
     ]
    },
    {
     "data": {
      "text/plain": [
       "True"
      ]
     },
     "execution_count": 5,
     "metadata": {},
     "output_type": "execute_result"
    }
   ],
   "source": [
    "import nltk\n",
    "nltk.download('brown')"
   ]
  },
  {
   "cell_type": "code",
   "execution_count": 6,
   "id": "457c59ed",
   "metadata": {},
   "outputs": [
    {
     "name": "stdout",
     "output_type": "stream",
     "text": [
      "For adventure we have 29 articles.\n",
      "For belles_lettres we have 75 articles.\n",
      "For editorial we have 27 articles.\n",
      "For fiction we have 29 articles.\n",
      "For government we have 30 articles.\n",
      "For hobbies we have 36 articles.\n",
      "For humor we have 9 articles.\n",
      "For learned we have 80 articles.\n",
      "For lore we have 48 articles.\n",
      "For mystery we have 24 articles.\n",
      "For news we have 44 articles.\n",
      "For religion we have 17 articles.\n",
      "For reviews we have 17 articles.\n",
      "For romance we have 29 articles.\n",
      "For science_fiction we have 6 articles.\n"
     ]
    }
   ],
   "source": [
    "# categories of articles in Brown corpus\n",
    "for category in brown.categories() :\n",
    "    print(f\"For {category} we have {len(brown.fileids(categories=category))} articles.\")"
   ]
  },
  {
   "cell_type": "markdown",
   "id": "23fb133c",
   "metadata": {},
   "source": [
    "Let's create a dataframe of the articles in of hobbies, editorial, government, news, and romance."
   ]
  },
  {
   "cell_type": "code",
   "execution_count": 7,
   "id": "18f50b9d",
   "metadata": {},
   "outputs": [
    {
     "data": {
      "text/plain": [
       "(166, 3)"
      ]
     },
     "execution_count": 7,
     "metadata": {},
     "output_type": "execute_result"
    }
   ],
   "source": [
    "categories = ['editorial','government','news','romance','hobbies'] \n",
    "\n",
    "category_list = []\n",
    "file_ids = []\n",
    "texts = []\n",
    "\n",
    "for category in categories : \n",
    "    for file_id in brown.fileids(categories=category) :\n",
    "        \n",
    "        # build some lists for a dataframe\n",
    "        category_list.append(category)\n",
    "        file_ids.append(file_id)\n",
    "        \n",
    "        text = brown.words(fileids=file_id)\n",
    "        texts.append(\" \".join(text))\n",
    "\n",
    "        \n",
    "        \n",
    "df = pd.DataFrame()\n",
    "df['category'] = category_list\n",
    "df['id'] = file_ids\n",
    "df['text'] = texts \n",
    "\n",
    "df.shape"
   ]
  },
  {
   "cell_type": "code",
   "execution_count": 8,
   "id": "586f47de",
   "metadata": {},
   "outputs": [],
   "source": [
    "# Let's add some helpful columns on the df\n",
    "df['char_len'] = df['text'].apply(len)\n",
    "df['word_len'] = df['text'].apply(lambda x: len(x.split()))\n"
   ]
  },
  {
   "cell_type": "code",
   "execution_count": 9,
   "id": "2128fd2d",
   "metadata": {},
   "outputs": [
    {
     "data": {
      "text/plain": [
       "<AxesSubplot:xlabel='category'>"
      ]
     },
     "execution_count": 9,
     "metadata": {},
     "output_type": "execute_result"
    },
    {
     "data": {
      "image/png": "[encoded data removed]",
      "text/plain": [
       "<Figure size 720x432 with 1 Axes>"
      ]
     },
     "metadata": {
      "needs_background": "light"
     },
     "output_type": "display_data"
    }
   ],
   "source": [
    "%matplotlib inline\n",
    "df.groupby('category').agg({'word_len': 'mean'}).plot.bar(figsize=(10,6))"
   ]
  },
  {
   "cell_type": "markdown",
   "id": "554ffeb5",
   "metadata": {},
   "source": [
    "Now do our TF-IDF and Count vectorizations."
   ]
  },
  {
   "cell_type": "code",
   "execution_count": 10,
   "id": "21a7d247",
   "metadata": {},
   "outputs": [
    {
     "name": "stderr",
     "output_type": "stream",
     "text": [
      "C:\\Users\\MinsuKim\\miniconda3\\lib\\site-packages\\sklearn\\feature_extraction\\text.py:396: UserWarning: Your stop_words may be inconsistent with your preprocessing. Tokenizing the stop words generated tokens ['ll', 've'] not in stop_words.\n",
      "  warnings.warn(\n"
     ]
    },
    {
     "data": {
      "text/plain": [
       "(166, 4941)"
      ]
     },
     "execution_count": 10,
     "metadata": {},
     "output_type": "execute_result"
    }
   ],
   "source": [
    "count_text_vectorizer = CountVectorizer(stop_words=list(stopwords), min_df=5, max_df=0.7)\n",
    "count_text_vectors = count_text_vectorizer.fit_transform(df[\"text\"])\n",
    "count_text_vectors.shape"
   ]
  },
  {
   "cell_type": "code",
   "execution_count": 11,
   "id": "875deba9",
   "metadata": {},
   "outputs": [
    {
     "data": {
      "text/plain": [
       "(166, 4941)"
      ]
     },
     "execution_count": 11,
     "metadata": {},
     "output_type": "execute_result"
    }
   ],
   "source": [
    "tfidf_text_vectorizer = TfidfVectorizer(stop_words=list(stopwords), min_df=5, max_df=0.7)\n",
    "tfidf_text_vectors = tfidf_text_vectorizer.fit_transform(df['text'])\n",
    "tfidf_text_vectors.shape"
   ]
  },
  {
   "cell_type": "markdown",
   "id": "a1062b21",
   "metadata": {},
   "source": [
    "Q: What do the two data frames `count_text_vectors` and `tfidf_text_vectors` hold? \n",
    "\n",
    "A: count_text_vectors counts the number of times a word appears. tfidf_text_vectors not only counts the number of times a word appears but also considers how important the word is to the whole corpus"
   ]
  },
  {
   "cell_type": "markdown",
   "id": "f77c3f94",
   "metadata": {},
   "source": [
    "## Fitting a Non-Negative Matrix Factorization Model\n",
    "\n",
    "In this section the code to fit a five-topic NMF model has already been written. This code comes directly from the [BTAP repo](https://github.com/blueprints-for-text-analytics-python/blueprints-text), which will help you tremendously in the coming sections. "
   ]
  },
  {
   "cell_type": "code",
   "execution_count": 12,
   "id": "d28745a3",
   "metadata": {},
   "outputs": [
    {
     "name": "stderr",
     "output_type": "stream",
     "text": [
      "C:\\Users\\MinsuKim\\miniconda3\\lib\\site-packages\\sklearn\\decomposition\\_nmf.py:289: FutureWarning: The 'init' value, when 'init=None' and n_components is less than n_samples and n_features, will be changed from 'nndsvd' to 'nndsvda' in 1.1 (renaming of 0.26).\n",
      "  warnings.warn(\n"
     ]
    }
   ],
   "source": [
    "nmf_text_model = NMF(n_components=5, random_state=314)\n",
    "W_text_matrix = nmf_text_model.fit_transform(tfidf_text_vectors)\n",
    "H_text_matrix = nmf_text_model.components_"
   ]
  },
  {
   "cell_type": "code",
   "execution_count": 13,
   "id": "a67185e7",
   "metadata": {},
   "outputs": [
    {
     "name": "stdout",
     "output_type": "stream",
     "text": [
      "\n",
      "Topic 00\n",
      "  mr (0.51)\n",
      "  president (0.45)\n",
      "  kennedy (0.43)\n",
      "  united (0.42)\n",
      "  khrushchev (0.40)\n",
      "\n",
      "Topic 01\n",
      "  said (0.88)\n",
      "  didn (0.46)\n",
      "  ll (0.45)\n",
      "  thought (0.42)\n",
      "  man (0.37)\n",
      "\n",
      "Topic 02\n",
      "  state (0.40)\n",
      "  development (0.36)\n",
      "  tax (0.33)\n",
      "  sales (0.30)\n",
      "  program (0.25)\n",
      "\n",
      "Topic 03\n",
      "  mrs (2.61)\n",
      "  mr (0.78)\n",
      "  said (0.64)\n",
      "  miss (0.52)\n",
      "  car (0.51)\n",
      "\n",
      "Topic 04\n",
      "  game (1.01)\n",
      "  league (0.74)\n",
      "  ball (0.72)\n",
      "  baseball (0.71)\n",
      "  team (0.66)\n"
     ]
    }
   ],
   "source": [
    "display_topics(nmf_text_model, tfidf_text_vectorizer.get_feature_names_out())"
   ]
  },
  {
   "cell_type": "markdown",
   "id": "fee51e9b",
   "metadata": {},
   "source": [
    "Now some work for you to do. Compare the NMF factorization to the original categories from the Brown Corpus.\n",
    "\n",
    "We are interested in the extent to which our NMF factorization agrees or disagrees with the original categories in the corpus. For each topic in your NMF model, tally the Brown categories and interpret the results. \n"
   ]
  },
  {
   "cell_type": "code",
   "execution_count": 21,
   "id": "7c8c8eb0",
   "metadata": {},
   "outputs": [],
   "source": [
    "topic_to_category = defaultdict(list)\n",
    "\n",
    "for idx, row in enumerate(W_text_matrix) :\n",
    "    topic = np.where(row == np.amax(row))[0]\n",
    "    category = df[\"category\"].iloc[idx]\n",
    "    \n",
    "    topic_to_category[topic[0]].append(category)"
   ]
  },
  {
   "cell_type": "code",
   "execution_count": 22,
   "id": "23658948",
   "metadata": {},
   "outputs": [
    {
     "name": "stdout",
     "output_type": "stream",
     "text": [
      "For topic 2 we have 65 documents.\n",
      "[('government', 26), ('hobbies', 26), ('news', 11), ('editorial', 2)]\n",
      "For topic 0 we have 32 documents.\n",
      "[('editorial', 20), ('news', 8), ('government', 4)]\n",
      "For topic 1 we have 41 documents.\n",
      "[('romance', 29), ('hobbies', 8), ('editorial', 4)]\n",
      "For topic 4 we have 10 documents.\n",
      "[('news', 8), ('editorial', 1), ('hobbies', 1)]\n",
      "For topic 3 we have 18 documents.\n",
      "[('news', 17), ('hobbies', 1)]\n"
     ]
    }
   ],
   "source": [
    "for topic, categories in topic_to_category.items() :\n",
    "    print(f\"For topic {topic} we have {len(categories)} documents.\")\n",
    "    print(Counter(categories).most_common(5))"
   ]
  },
  {
   "cell_type": "markdown",
   "id": "f8d4e2bc",
   "metadata": {},
   "source": [
    "Q: How does your five-topic NMF model compare to the original Brown categories? \n",
    "\n",
    "A: The five-topic NMF model didn't quite agree with the original categories in the corpus that well, just a tiny bit"
   ]
  },
  {
   "cell_type": "markdown",
   "id": "82e37cb5",
   "metadata": {},
   "source": [
    "## Fitting an LSA Model\n",
    "\n",
    "In this section, follow the example from the repository and fit an LSA model (called a \"TruncatedSVD\" in `sklearn`). Again fit a five-topic model and compare it to the actual categories in the Brown corpus. Use the TF-IDF vectors for your fit, as above. \n",
    "\n",
    "To be explicit, we are once again interested in the extent to which this LSA factorization agrees or disagrees with the original categories in the corpus. For each topic in your model, tally the Brown categories and interpret the results. \n"
   ]
  },
  {
   "cell_type": "code",
   "execution_count": 23,
   "id": "00b53d3d",
   "metadata": {},
   "outputs": [
    {
     "name": "stdout",
     "output_type": "stream",
     "text": [
      "\n",
      "Topic 00\n",
      "  said (0.44)\n",
      "  mr (0.25)\n",
      "  mrs (0.22)\n",
      "  state (0.20)\n",
      "  man (0.17)\n",
      "\n",
      "Topic 01\n",
      "  said (3.89)\n",
      "  ll (2.73)\n",
      "  didn (2.63)\n",
      "  thought (2.20)\n",
      "  got (1.97)\n",
      "\n",
      "Topic 02\n",
      "  mrs (3.14)\n",
      "  mr (1.73)\n",
      "  said (1.05)\n",
      "  kennedy (0.81)\n",
      "  president (0.77)\n",
      "\n",
      "Topic 03\n",
      "  mrs (30.38)\n",
      "  club (6.70)\n",
      "  game (6.40)\n",
      "  jr (5.81)\n",
      "  dallas (5.50)\n",
      "\n",
      "Topic 04\n",
      "  game (4.33)\n",
      "  league (3.09)\n",
      "  baseball (3.06)\n",
      "  ball (2.94)\n",
      "  team (2.81)\n"
     ]
    }
   ],
   "source": [
    "# Your code here\n",
    "svd_text_model = TruncatedSVD(n_components=5, random_state=42)\n",
    "W_svd_text_matrix = svd_text_model.fit_transform(tfidf_text_vectors)\n",
    "H_svd_text_matrix = svd_text_model.components_\n",
    "\n",
    "display_topics(svd_text_model, tfidf_text_vectorizer.get_feature_names_out())"
   ]
  },
  {
   "cell_type": "markdown",
   "id": "4d94d56f",
   "metadata": {},
   "source": [
    "Q: How does your five-topic LSA model compare to the original Brown categories? \n",
    "\n",
    "A: It seems to be a little better than NMF "
   ]
  },
  {
   "cell_type": "markdown",
   "id": "ea8b280a",
   "metadata": {},
   "source": [
    "Q: What is your interpretation of the display topics output? \n",
    "\n",
    "A: The words provided are the most important words for each topic in our model, starting from the top, the most relevant, to the 5th most relevant."
   ]
  },
  {
   "cell_type": "markdown",
   "id": "b4ab4d29",
   "metadata": {},
   "source": [
    "## Fitting an LDA Model\n",
    "\n",
    "Finally, fit a five-topic LDA model using the count vectors (`count_text_vectors` from above). Display the results using `pyLDAvis.display` and describe what you learn from that visualization. "
   ]
  },
  {
   "cell_type": "code",
   "execution_count": 24,
   "id": "802cb8ff",
   "metadata": {},
   "outputs": [],
   "source": [
    "# Fit your LDA model here\n",
    "lda_text_model = LatentDirichletAllocation(n_components = 6, random_state=314)\n",
    "W_lda_text_matrix = lda_text_model.fit_transform(count_text_vectors)\n",
    "H_lda_text_matrix = lda_text_model.components_"
   ]
  },
  {
   "cell_type": "code",
   "execution_count": 25,
   "id": "ab18adf5",
   "metadata": {},
   "outputs": [
    {
     "name": "stdout",
     "output_type": "stream",
     "text": [
      "\n",
      "Topic 00\n",
      "  mrs (1.80)\n",
      "  water (0.71)\n",
      "  clay (0.67)\n",
      "  use (0.64)\n",
      "  shelter (0.59)\n",
      "\n",
      "Topic 01\n",
      "  business (0.58)\n",
      "  state (0.58)\n",
      "  1960 (0.49)\n",
      "  development (0.48)\n",
      "  sales (0.47)\n",
      "\n",
      "Topic 02\n",
      "  mr (0.89)\n",
      "  president (0.77)\n",
      "  united (0.53)\n",
      "  american (0.52)\n",
      "  said (0.50)\n",
      "\n",
      "Topic 03\n",
      "  feed (0.61)\n",
      "  college (0.60)\n",
      "  university (0.50)\n",
      "  work (0.42)\n",
      "  student (0.37)\n",
      "\n",
      "Topic 04\n",
      "  state (1.23)\n",
      "  states (1.00)\n",
      "  tax (0.73)\n",
      "  united (0.69)\n",
      "  government (0.57)\n",
      "\n",
      "Topic 05\n",
      "  said (1.69)\n",
      "  old (0.51)\n",
      "  little (0.48)\n",
      "  man (0.47)\n",
      "  ll (0.44)\n"
     ]
    }
   ],
   "source": [
    "# Call `display_topics` on your fitted model here\n",
    "display_topics(lda_text_model, count_text_vectorizer.get_feature_names_out())"
   ]
  },
  {
   "cell_type": "markdown",
   "id": "f2c67876",
   "metadata": {},
   "source": [
    "Q: What inference do you draw from the displayed topics for your LDA model? \n",
    "\n",
    "A: similar results to the other 2 models\n",
    "\n",
    "Q: Repeat the tallying of Brown categories within your topics. How does your five-topic LDA model compare to the original Brown categories? \n",
    "\n",
    "A: Within each topic, the relevance score (numbers next to each words) are closer together, less spread out than the LSA model. "
   ]
  },
  {
   "cell_type": "code",
   "execution_count": 26,
   "id": "6aae75ca",
   "metadata": {},
   "outputs": [],
   "source": [
    "lda_display = pyLDAvis.lda_model.prepare(lda_text_model, count_text_vectors, count_text_vectorizer, sort_topics=False)"
   ]
  },
  {
   "cell_type": "code",
   "execution_count": 27,
   "id": "2a89fc15",
   "metadata": {
    "scrolled": false
   },
   "outputs": [
    {
     "data": {
      "text/html": [
       "\n",
       "<link rel=\"stylesheet\" type=\"text/css\" href=\"https://cdn.jsdelivr.net/gh/bmabey/pyLDAvis@3.4.0/pyLDAvis/js/ldavis.v1.0.0.css\">\n",
       "\n",
       "\n",
       "<div id=\"ldavis_el31920220254327256063198050\" style=\"background-color:white;\"></div>\n",
       "<script type=\"text/javascript\">\n",
       "\n",
       "var ldavis_el31920220254327256063198050_data = {\"mdsDat\": {\"x\": [0.11915023661246898, -0.1263402958331002, 0.014730620076157221, -0.03718642854199759, -0.1674499775677204, 0.19709584525419205], \"y\": [-0.18678755102751374, -0.03925480281298506, 0.1216537198971159, 0.01849033313038803, 0.002025331068056563, 0.08387296974493838], \"topics\": [1, 2, 3, 4, 5, 6], \"cluster\": [1, 1, 1, 1, 1, 1], \"Freq\": [7.416309144556181, 14.868393449950917, 19.262242680102553, 11.738021573269524, 17.062819473351524, 29.6522136787693]}, \"tinfo\": {\"Term\": [\"mrs\", \"said\", \"state\", \"states\", \"tax\", \"mr\", \"united\", \"water\", \"feed\", \"president\", \"college\", \"clay\", \"use\", \"ll\", \"shall\", \"development\", \"fiscal\", \"sales\", \"shelter\", \"got\", \"inch\", \"1960\", \"cut\", \"place\", \"don\", \"government\", \"house\", \"university\", \"kennedy\", \"department\", \"shelter\", \"shooting\", \"blocks\", \"angle\", \"thickness\", \"lever\", \"site\", \"width\", \"drill\", \"tomato\", \"outdoors\", \"roof\", \"insert\", \"fitted\", \"lumber\", \"outdoor\", \"frames\", \"cooling\", \"sugar\", \"heating\", \"builder\", \"cooking\", \"clay\", \"concrete\", \"inch\", \"swim\", \"pieces\", \"entertain\", \"edges\", \"windows\", \"entrance\", \"panels\", \"fig\", \"mrs\", \"gun\", \"frame\", \"piece\", \"cut\", \"water\", \"heat\", \"wall\", \"recreation\", \"area\", \"add\", \"use\", \"place\", \"af\", \"house\", \"areas\", \"materials\", \"mr\", \"available\", \"cost\", \"home\", \"good\", \"way\", \"set\", \"work\", \"family\", \"boats\", \"electronic\", \"motors\", \"journal\", \"bankers\", \"warwick\", \"machine\", \"aircraft\", \"missile\", \"electronics\", \"procurement\", \"tract\", \"missiles\", \"inventories\", \"polaris\", \"concerns\", \"advances\", \"executives\", \"films\", \"machines\", \"founding\", \"sheraton\", \"manufacturing\", \"machinery\", \"mitchell\", \"laboratory\", \"marketing\", \"systems\", \"stocks\", \"stockholders\", \"co\", \"shares\", \"sales\", \"industry\", \"industrial\", \"rhode\", \"equipment\", \"1959\", \"1960\", \"farm\", \"medical\", \"island\", \"property\", \"production\", \"stock\", \"business\", \"corps\", \"system\", \"brown\", \"development\", \"market\", \"company\", \"1961\", \"small\", \"program\", \"research\", \"state\", \"military\", \"000\", \"service\", \"general\", \"mr\", \"high\", \"khrushchev\", \"rayburn\", \"congo\", \"republican\", \"moscow\", \"castro\", \"troops\", \"alexander\", \"democrats\", \"communists\", \"democratic\", \"laos\", \"cuban\", \"soviet\", \"opposition\", \"katanga\", \"bombs\", \"berlin\", \"nixon\", \"propaganda\", \"cuba\", \"allies\", \"viet\", \"eisenhower\", \"violence\", \"geneva\", \"nam\", \"hammarskjold\", \"conservative\", \"gop\", \"crisis\", \"join\", \"premier\", \"china\", \"communist\", \"political\", \"kennedy\", \"nations\", \"mayor\", \"west\", \"war\", \"east\", \"russia\", \"president\", \"vote\", \"council\", \"party\", \"mr\", \"bridge\", \"speaker\", \"leaders\", \"american\", \"nuclear\", \"committee\", \"united\", \"meeting\", \"world\", \"city\", \"government\", \"public\", \"people\", \"administration\", \"states\", \"said\", \"house\", \"state\", \"country\", \"man\", \"000\", \"great\", \"week\", \"academic\", \"meat\", \"trustees\", \"campus\", \"faculty\", \"feed\", \"classical\", \"professors\", \"musical\", \"chamber\", \"mathematics\", \"versions\", \"recognition\", \"teachers\", \"colleges\", \"contemporary\", \"reunion\", \"cattle\", \"collective\", \"catholic\", \"inspired\", \"prestige\", \"fulfill\", \"symphony\", \"creative\", \"curriculum\", \"chemical\", \"dilemma\", \"bargaining\", \"bible\", \"music\", \"artist\", \"membership\", \"college\", \"student\", \"students\", \"orchestra\", \"trust\", \"interior\", \"university\", \"art\", \"schools\", \"daily\", \"engineer\", \"version\", \"pool\", \"design\", \"performance\", \"education\", \"members\", \"anti\", \"technical\", \"religious\", \"work\", \"school\", \"level\", \"labor\", \"president\", \"staff\", \"good\", \"board\", \"american\", \"men\", \"high\", \"world\", \"family\", \"head\", \"problem\", \"people\", \"bonds\", \"revenues\", \"rehabilitation\", \"vehicles\", \"wildlife\", \"payments\", \"vocational\", \"adjustments\", \"thereof\", \"customer\", \"1952\", \"assigned\", \"calendar\", \"payment\", \"taxes\", \"exemption\", \"payroll\", \"bond\", \"municipalities\", \"insurance\", \"vehicle\", \"commodities\", \"provisions\", \"puerto\", \"rico\", \"filing\", \"trial\", \"gross\", \"appropriated\", \"accomplish\", \"taxpayers\", \"attorney\", \"tax\", \"fiscal\", \"shall\", \"acres\", \"interference\", \"india\", \"authorized\", \"treasury\", \"transportation\", \"stations\", \"roads\", \"states\", \"claim\", \"state\", \"income\", \"act\", \"department\", \"federal\", \"united\", \"countries\", \"commission\", \"secretary\", \"government\", \"term\", \"hearing\", \"pay\", \"costs\", \"development\", \"000\", \"court\", \"class\", \"local\", \"use\", \"program\", \"board\", \"million\", \"service\", \"section\", \"services\", \"plan\", \"law\", \"general\", \"public\", \"national\", \"interest\", \"boy\", \"wasn\", \"woman\", \"walked\", \"baseball\", \"baby\", \"hair\", \"bed\", \"hadn\", \"clothes\", \"couldn\", \"games\", \"ll\", \"ball\", \"nice\", \"pale\", \"yards\", \"cousin\", \"football\", \"breakfast\", \"yankees\", \"coach\", \"george\", \"player\", \"bedroom\", \"snow\", \"mother\", \"looked\", \"ham\", \"waited\", \"didn\", \"got\", \"girl\", \"hit\", \"sat\", \"went\", \"league\", \"thought\", \"game\", \"said\", \"team\", \"knew\", \"eyes\", \"told\", \"night\", \"room\", \"ve\", \"don\", \"came\", \"old\", \"little\", \"won\", \"know\", \"man\", \"home\", \"away\", \"left\", \"took\", \"come\", \"young\", \"good\", \"way\", \"day\", \"going\", \"mrs\", \"right\", \"john\", \"think\", \"people\"], \"Freq\": [299.0, 800.0, 486.0, 334.0, 175.0, 387.0, 302.0, 160.0, 95.0, 296.0, 122.0, 79.0, 252.0, 168.0, 126.0, 198.0, 110.0, 116.0, 57.0, 147.0, 66.0, 128.0, 95.0, 188.0, 177.0, 275.0, 231.0, 122.0, 131.0, 155.0, 54.512922705231624, 29.723470523067796, 18.647067269724896, 6.526068245882349, 12.197091395248316, 13.685983475464825, 44.09934530335638, 6.41867489130877, 28.08990204040816, 4.7864190679369125, 4.783268047663046, 24.695146563908043, 10.178004431341668, 4.699111003001698, 24.227685530675995, 16.98425766886906, 16.707163548440054, 29.52947493418054, 11.155764318213588, 16.996865299381565, 19.204858222475842, 7.368947038984382, 61.838559140514946, 18.137814476211513, 51.23332045794992, 7.195478368726052, 39.46135866349269, 6.460447891650326, 17.15853411063463, 12.811117547667692, 15.951896420746989, 23.638697816610403, 22.13750009474741, 166.63120736815867, 14.565646168780185, 25.15828857147292, 35.82398370091237, 48.22792555850307, 65.85212998009101, 24.48797653995449, 33.18359261170017, 21.588947532747696, 47.12088405249709, 24.917528667635164, 59.12711173989598, 50.49089887951431, 28.70955525951223, 45.721013310893916, 31.135578353084938, 24.002379735909102, 46.66737044621234, 29.803709078509364, 28.430085937173946, 34.110915642819734, 33.93621545093077, 29.18953034140016, 26.307661196157728, 26.61539916975101, 25.397950753949985, 38.00249693094486, 25.704443880234447, 43.653369766386916, 18.860578122563066, 10.550752812000365, 13.174184853226441, 47.84985549702676, 51.22615432572246, 36.3191770877627, 29.2491478203907, 17.099669692297905, 7.692676470042863, 20.535725878244218, 6.780771326878999, 6.779426576124478, 22.749301680761135, 5.834524139952585, 5.8331091667565085, 5.777076938652985, 26.962066292268272, 4.886335933535526, 4.865905690159158, 16.97260901972203, 28.24093785709243, 15.925166883190418, 14.226160730504745, 34.769392517266226, 31.29698169150492, 12.376846639055731, 16.97679925083817, 47.027258644477506, 29.699074657385278, 87.6663263486938, 71.99857640896283, 58.41032098509166, 63.4796712532613, 75.79413136756433, 47.30075117943083, 90.55587543053714, 30.185666953971673, 70.4750456882453, 75.72252651605808, 62.27823372331368, 55.84316492570256, 51.41234957930013, 108.22328977052128, 48.85946420421525, 73.78554655774032, 57.22393395644412, 89.46450507713053, 53.843269518252775, 67.85938342384289, 59.73459961545683, 81.34551541856541, 80.15793263954862, 52.09867598117445, 107.09577176137678, 56.53526374007513, 80.69387928243174, 63.87901158384677, 59.987598970550266, 53.05461739552228, 49.26453917127829, 72.91303803878743, 46.36890134586377, 43.419056430929714, 39.48361785408418, 37.521152122999034, 29.655675547682304, 26.706362462840413, 24.72667008210296, 23.757746097246798, 23.756330378540014, 59.78357455006992, 49.20982231879073, 20.805523688983072, 78.42594257335492, 20.790123568116698, 19.824409090906794, 18.836141842238906, 62.96146860634633, 16.8706180973239, 15.879552242271982, 36.395906694493526, 14.909595270234197, 14.909590645505572, 38.1487048458305, 13.924247160557757, 12.943841605475342, 12.943331135887908, 12.943322875404881, 12.942824934674935, 12.94254810900979, 28.362567733565083, 24.637442553312237, 23.689243952633316, 31.568141917276602, 65.41931738695865, 72.31558992935409, 108.88370713526491, 68.48401240641768, 39.61415350931059, 85.46546377265214, 106.47521049183133, 73.50556394215802, 38.345690958867166, 184.6007996941098, 46.44244391073446, 57.61015013465459, 78.48980256599987, 213.41539831252138, 42.989201281477236, 35.940693603011105, 43.01467631521358, 124.14934063004445, 54.177510235581515, 67.43305657527347, 126.2689611484104, 61.183404854979145, 106.33099645296606, 96.07929239529957, 96.53115518428712, 78.53574770669442, 87.77355538395727, 64.42227267417923, 92.06833300124865, 121.10033213860302, 74.35358693045548, 92.06766741214463, 63.65528578238582, 73.22651721842713, 67.99675712567554, 64.35337306326414, 63.41235109278828, 28.458497957327882, 21.778050054463264, 18.904045642119915, 15.249714715505943, 49.07135690273977, 89.16569459480651, 9.583802902363024, 8.639425288942208, 18.98027152404213, 24.89236257694064, 7.701042129847345, 6.75708285393595, 15.170931703187485, 30.246613977620036, 18.373721263059405, 15.811962494886991, 5.772230320953166, 17.842280422049676, 10.507825853577902, 26.553094198175096, 7.155770535808523, 10.3283779911101, 6.295733348904835, 14.17361890508875, 13.327106485079062, 7.009450434233437, 22.456279164107336, 8.526531280438432, 10.846783049689279, 19.90528395525832, 47.70523627550581, 13.619384381266057, 19.418316940339, 88.06409998627652, 53.895614331202935, 51.72481435311963, 16.341165468890008, 27.974851072159655, 29.73311515586943, 72.60644121564836, 37.446240532983495, 52.33201959489385, 34.08717773098681, 23.34126597297901, 22.220863914524344, 42.242883655670745, 40.384515123913665, 27.987413357927714, 40.6934461340266, 52.740829158289365, 31.610270876712306, 30.895285463043713, 24.47817641430841, 61.75496396295769, 49.48520549184269, 34.61688039850434, 30.962958773421263, 53.64508115987969, 30.34950990235088, 46.22865843574008, 39.14685122200355, 43.20037866198092, 39.17234703407345, 37.88793113562656, 38.510918406266754, 33.44447201738865, 33.1859390551742, 31.895688830651462, 31.597969352954696, 31.563506327442756, 20.137915362246932, 18.24117727509474, 40.879598050782086, 16.334537362006785, 38.90936904074439, 13.480033266298918, 12.504494917743799, 11.579024704088344, 11.570763678704477, 11.528498113239737, 10.62119134876899, 22.046346462338203, 38.817089351590205, 23.8119036671842, 9.661950832347598, 13.99827418739015, 13.107802816342712, 8.720865895415526, 31.348639403708983, 20.001123872865218, 15.621537987269248, 21.68493977378445, 18.241144558098522, 18.24114450252735, 16.46740689861062, 32.905679927462906, 19.950698942825717, 7.769672606854029, 7.767713608925502, 18.10948332859982, 35.17672187118707, 154.65826650664712, 96.80838517487446, 110.40200030663418, 28.281004240166407, 32.32632938470031, 32.448224905508226, 26.539703167186286, 24.243911156589483, 28.626275602272667, 47.81213364102749, 36.00024381992913, 212.2323178095141, 35.83165621820947, 260.7682779665457, 58.64673600741871, 82.65839730027638, 95.11973930368748, 73.07327560337332, 146.26957497474655, 54.41148574388778, 48.203985203327974, 69.91679666100482, 121.85776626107949, 45.3385783201138, 37.821275982712386, 59.68899651275273, 50.08569934692651, 87.36860352110715, 104.2235671346769, 59.1818137276562, 56.42479185775017, 63.18420872554978, 89.79354010672705, 82.44428477041201, 71.61880403862199, 61.72272640344365, 74.66818047133785, 48.68651458271967, 50.028793850230194, 53.23526932966043, 50.59946862663866, 57.78007452021854, 57.59901048824103, 51.027024676403215, 50.21587218473381, 82.39991293246663, 57.92524434186421, 54.92703121118418, 47.15037435771206, 39.324777143724155, 35.40912101225903, 35.409080604084146, 35.40622482865303, 31.493216443090407, 32.42270510598126, 52.44257522039787, 30.511328931458458, 163.95396383081666, 61.815053115914395, 27.575978311753325, 26.59716550955781, 26.596271614411357, 26.593507638907848, 25.616089266320078, 25.61086728866166, 25.610228998077115, 22.67910075889859, 49.953039093171796, 47.1420014234579, 20.718956883515855, 20.716656612983694, 94.04743946558825, 82.82913978190798, 19.73330094477575, 18.765024394432732, 118.57009455752903, 139.4472636574037, 43.8426982652735, 55.58418897504183, 36.32797628355352, 125.55443340100726, 56.824440885544426, 126.27636585638162, 82.13319843665481, 626.4726106875337, 53.465340512195105, 81.01260647221416, 87.12062205389323, 96.16347381578983, 126.31871715431755, 88.92690820495879, 74.57397071939005, 141.99045253008788, 130.47214491795674, 186.699625441695, 175.85493185369182, 76.48464545651845, 143.5000206786814, 175.54539927233765, 162.878806737022, 93.94342312539327, 112.60654604907924, 90.23372363378127, 118.56569726552495, 97.07207180911278, 158.63587225349542, 143.96260107320444, 151.81496819059078, 94.14860938416801, 128.8971457741415, 111.60373068953004, 100.11674797949257, 92.98867808475379, 96.37467514338357], \"Total\": [299.0, 800.0, 486.0, 334.0, 175.0, 387.0, 302.0, 160.0, 95.0, 296.0, 122.0, 79.0, 252.0, 168.0, 126.0, 198.0, 110.0, 116.0, 57.0, 147.0, 66.0, 128.0, 95.0, 188.0, 177.0, 275.0, 231.0, 122.0, 131.0, 155.0, 57.63265936798803, 32.58940702965598, 20.48045251370215, 7.446387807414735, 13.94945361377648, 15.865294672504413, 51.14562622651266, 7.449153836266679, 32.64842408354638, 5.590099951425625, 5.590111320379523, 28.9481146594074, 12.104632423217197, 5.591634964189968, 28.97414797216628, 20.514833150750217, 20.585234595034137, 36.4153483009323, 14.0037482304348, 21.422483542886088, 24.23953138273685, 9.361221233280542, 79.66934384787497, 23.460570215853227, 66.29181280364689, 9.370966976884281, 51.50928904797902, 8.43323120964713, 22.490466203747932, 16.887915736729493, 21.606718319953842, 32.63867882238772, 30.824112956912696, 299.0381509025189, 19.744112187911842, 37.729318790574474, 59.42253962405651, 95.80809262374423, 160.41490540523523, 41.42044470814766, 65.46491551063517, 35.569286607064335, 143.95266359956562, 49.22632848157738, 252.4300429340265, 188.6073513823967, 73.17286785336177, 231.64474784897857, 98.60988973787683, 50.62578152805376, 387.8046307496856, 118.84459905883884, 115.26569756354967, 265.7722666379683, 306.5836131150874, 274.495671426659, 167.4492275100666, 257.2522335917421, 129.49383482396212, 38.80266354150525, 26.502174063479487, 45.42318659500807, 19.886467123771105, 11.363297505157657, 14.197273154936067, 52.18117775564767, 55.982419051888456, 39.74131498554961, 32.25280130669839, 18.938731549318437, 8.524929371832604, 22.77141061563947, 7.578407696655945, 7.578451739962117, 25.625739652962274, 6.63221721827939, 6.632269664031017, 6.634105587208681, 31.276223237776247, 5.686052855764228, 5.686136914224263, 19.92432855309334, 33.19592515897518, 18.908032745731134, 17.043869494362017, 41.67670715512101, 37.89003488077359, 15.159475308484748, 20.816386622697927, 58.85044772405344, 37.041304134209255, 116.59979108439853, 95.82869982334749, 77.55570061959014, 85.32075590645974, 103.85317325921122, 62.82835895447747, 128.57946516973223, 39.06762834473018, 100.38308981680932, 119.03665494638817, 94.84778133002553, 84.38703302634876, 76.8000044312744, 208.65300143181508, 75.3231845475269, 141.7143586282037, 98.22467294498827, 198.0778441513, 94.81304265619441, 138.18191503078188, 114.36272193034257, 209.4642667617769, 229.6044584360212, 102.48296812173267, 486.7362099929421, 122.31325163538565, 280.41846447604416, 204.36214817124056, 200.1742467928749, 387.8046307496856, 217.65738761624067, 73.70469046429619, 47.16089794090997, 44.211572409883395, 40.279073721370594, 38.312981058347596, 30.44814137288289, 27.498830995578807, 25.532526334637954, 24.549541893003433, 24.549488854360746, 61.85377943757515, 51.058477178224756, 21.600127821117216, 81.47474541745184, 21.599664639768672, 20.61709181281918, 19.633970626781295, 65.75577743739613, 17.667775846375424, 16.684222922222872, 38.27706091447174, 15.701607192763525, 15.70160926519922, 40.23645222070525, 14.718504613699322, 13.735414352717266, 13.735402454290947, 13.735398097391435, 13.735382987985224, 13.735392004250158, 30.398064445928078, 26.474887075565224, 25.490293659563253, 34.33638602058675, 74.40909061263135, 84.12317170465538, 131.86555122650026, 80.16082564830478, 45.12768021042907, 107.54052471703088, 147.31550602575123, 95.7734100213318, 45.001434901793566, 296.84524744064, 56.65186733594067, 74.01096277666298, 109.26583937570953, 387.8046307496856, 52.59847360056101, 42.0576082827614, 54.88403699600728, 263.59598027631773, 78.67832167136031, 110.22753762604171, 302.68687199898926, 98.66741836095966, 255.91791224482574, 215.53827350174052, 275.9485155285312, 200.89948001986616, 265.61971092474965, 133.04313539941552, 334.03135476322365, 800.77070954274, 231.64474784897857, 486.7362099929421, 144.5991222223322, 282.94863423750587, 280.41846447604416, 202.32226165567386, 189.78343097003034, 29.25976727228639, 22.658331646310028, 19.827155702228456, 16.050950212902425, 51.97997753227409, 95.46939337610151, 10.39024131405877, 9.446526168587068, 20.771127414976966, 27.406164242113867, 8.50311728353111, 7.559489173805326, 17.003271563902448, 34.087508751716584, 20.793720533714684, 17.955539045989635, 6.616477203495001, 20.73247960491173, 12.317571681580112, 31.289754827406515, 8.523545498625964, 12.32518215633044, 7.576985512585891, 17.07061474323197, 16.057546437784495, 8.50499770282607, 27.384489865085605, 10.429936270358473, 13.279708492916953, 24.651749384543404, 60.622375429083974, 16.977769057581074, 24.698546444616206, 122.67430626812012, 73.10034707344886, 70.19713430453788, 20.724317357596437, 37.9274279611181, 40.663779009556414, 122.86380744983606, 58.13821889017707, 90.31481026573333, 53.21006658814164, 33.00553439128175, 31.325829570155427, 76.77215761453101, 74.31761740767456, 44.704137710372066, 85.22489891034243, 139.98970184395114, 58.53588876585933, 57.68147759704688, 37.26985323199587, 257.2522335917421, 171.50404346904463, 83.15277533874777, 68.96301906255147, 296.84524744064, 67.62295592210396, 306.5836131150874, 174.19422671504026, 263.59598027631773, 192.90120414770945, 217.65738761624067, 255.91791224482574, 129.49383482396212, 134.97751644765933, 118.36701141034627, 265.61971092474965, 32.361928129644895, 20.941360021180188, 19.037808516500327, 42.86854784893287, 17.13434327500378, 40.92032600439035, 14.279258566729041, 13.327328106304947, 12.375750513972504, 12.375797230405686, 12.377181524712816, 11.424136894393795, 23.771665637667528, 41.865968515458825, 25.731156352283477, 10.472225168748855, 15.243395935933219, 14.289933279084284, 9.520616196183378, 34.247054323760615, 21.929007946637295, 17.130208372597526, 23.785162899790528, 20.01680583359923, 20.01680581349152, 18.081327062232408, 36.15959793741402, 21.925869264299898, 8.56887264428725, 8.568965030758987, 19.980250283057657, 39.111021347253384, 175.9490220027848, 110.328741806275, 126.98277686956467, 31.475902680600274, 36.192344145561286, 37.12804924199784, 30.43751554734364, 27.687678583208083, 33.31070523879864, 59.242385836777096, 43.68943012791624, 334.03135476322365, 43.7928381851328, 486.7362099929421, 81.74937122999282, 130.51328878379945, 155.91899994841495, 113.49683636526694, 302.68687199898926, 84.4933211246512, 71.93302241385655, 122.24689746626319, 275.9485155285312, 66.73428174014705, 51.683206397974544, 105.05812114545346, 80.51613830542865, 198.0778441513, 280.41846447604416, 107.00860879149249, 99.92186796747625, 128.28707174513892, 252.4300429340265, 229.6044584360212, 174.19422671504026, 128.9029308807759, 204.36214817124056, 82.54506593268486, 94.27562725214867, 119.03765030083048, 98.7017573027368, 200.1742467928749, 200.89948001986616, 213.5656880069041, 133.93946002269172, 83.1968438279305, 58.72013005655189, 55.77969863852968, 47.95036438189332, 40.117824214536455, 36.20155966246391, 36.201555680441196, 36.201445787394036, 32.285295511727305, 33.26174425830223, 53.80830956162228, 31.306119774089915, 168.22849135917488, 63.56186556943015, 28.368996462036666, 27.389920773409354, 27.38988721033727, 27.389817192779798, 26.41081996792226, 26.410699379599194, 26.410624628412528, 23.473599589617585, 51.82907093272367, 48.93357270353279, 21.515328188346697, 21.51534442194394, 97.73020415844941, 86.10324551515632, 20.53591278621349, 19.55739366170107, 125.22008718488938, 147.84657493494822, 45.99107578358902, 58.65454790301728, 38.12193023962161, 137.8972027998267, 60.58071371874471, 140.4688038091603, 90.84790363253788, 800.77070954274, 57.63250760537598, 90.92580429344639, 98.83332868846979, 111.64456104287879, 152.14352908517873, 103.21703220311103, 84.70355585240405, 177.6385598806018, 162.95387393535609, 254.60969924661816, 238.64072823258928, 88.83921406907223, 192.09515851273008, 282.94863423750587, 265.7722666379683, 123.94926128711164, 162.96847209909453, 121.08046650608117, 185.96303107985227, 136.00888957296254, 306.5836131150874, 274.495671426659, 303.09624410712297, 133.77339789304608, 299.0381509025189, 214.03343880608213, 169.36727948368298, 134.86697842081844, 265.61971092474965], \"Category\": [\"Default\", \"Default\", \"Default\", \"Default\", \"Default\", \"Default\", \"Default\", \"Default\", \"Default\", \"Default\", \"Default\", \"Default\", \"Default\", \"Default\", \"Default\", \"Default\", \"Default\", \"Default\", \"Default\", \"Default\", \"Default\", \"Default\", \"Default\", \"Default\", \"Default\", \"Default\", \"Default\", \"Default\", \"Default\", \"Default\", \"Topic1\", \"Topic1\", \"Topic1\", \"Topic1\", \"Topic1\", \"Topic1\", \"Topic1\", \"Topic1\", \"Topic1\", \"Topic1\", \"Topic1\", \"Topic1\", \"Topic1\", \"Topic1\", \"Topic1\", \"Topic1\", \"Topic1\", \"Topic1\", \"Topic1\", \"Topic1\", \"Topic1\", \"Topic1\", \"Topic1\", \"Topic1\", \"Topic1\", \"Topic1\", \"Topic1\", \"Topic1\", \"Topic1\", \"Topic1\", \"Topic1\", \"Topic1\", \"Topic1\", \"Topic1\", \"Topic1\", \"Topic1\", \"Topic1\", \"Topic1\", \"Topic1\", \"Topic1\", \"Topic1\", \"Topic1\", \"Topic1\", \"Topic1\", \"Topic1\", \"Topic1\", \"Topic1\", \"Topic1\", \"Topic1\", \"Topic1\", \"Topic1\", \"Topic1\", \"Topic1\", \"Topic1\", \"Topic1\", \"Topic1\", \"Topic1\", \"Topic1\", \"Topic1\", \"Topic2\", \"Topic2\", \"Topic2\", \"Topic2\", \"Topic2\", \"Topic2\", \"Topic2\", \"Topic2\", \"Topic2\", \"Topic2\", \"Topic2\", \"Topic2\", \"Topic2\", \"Topic2\", \"Topic2\", \"Topic2\", \"Topic2\", \"Topic2\", \"Topic2\", \"Topic2\", \"Topic2\", \"Topic2\", \"Topic2\", \"Topic2\", \"Topic2\", \"Topic2\", \"Topic2\", \"Topic2\", \"Topic2\", \"Topic2\", \"Topic2\", \"Topic2\", \"Topic2\", \"Topic2\", \"Topic2\", \"Topic2\", \"Topic2\", \"Topic2\", \"Topic2\", \"Topic2\", \"Topic2\", \"Topic2\", \"Topic2\", \"Topic2\", \"Topic2\", \"Topic2\", \"Topic2\", \"Topic2\", \"Topic2\", \"Topic2\", \"Topic2\", \"Topic2\", \"Topic2\", \"Topic2\", \"Topic2\", \"Topic2\", \"Topic2\", \"Topic2\", \"Topic2\", \"Topic2\", \"Topic2\", \"Topic2\", \"Topic2\", \"Topic3\", \"Topic3\", \"Topic3\", \"Topic3\", \"Topic3\", \"Topic3\", \"Topic3\", \"Topic3\", \"Topic3\", \"Topic3\", \"Topic3\", \"Topic3\", \"Topic3\", \"Topic3\", \"Topic3\", \"Topic3\", \"Topic3\", \"Topic3\", \"Topic3\", \"Topic3\", \"Topic3\", \"Topic3\", \"Topic3\", \"Topic3\", \"Topic3\", \"Topic3\", \"Topic3\", \"Topic3\", \"Topic3\", \"Topic3\", \"Topic3\", \"Topic3\", \"Topic3\", \"Topic3\", \"Topic3\", \"Topic3\", \"Topic3\", \"Topic3\", \"Topic3\", \"Topic3\", \"Topic3\", \"Topic3\", \"Topic3\", \"Topic3\", \"Topic3\", \"Topic3\", \"Topic3\", \"Topic3\", \"Topic3\", \"Topic3\", \"Topic3\", \"Topic3\", \"Topic3\", \"Topic3\", \"Topic3\", \"Topic3\", \"Topic3\", \"Topic3\", \"Topic3\", \"Topic3\", \"Topic3\", \"Topic3\", \"Topic3\", \"Topic3\", \"Topic3\", \"Topic3\", \"Topic3\", \"Topic3\", \"Topic3\", \"Topic3\", \"Topic3\", \"Topic4\", \"Topic4\", \"Topic4\", \"Topic4\", \"Topic4\", \"Topic4\", \"Topic4\", \"Topic4\", \"Topic4\", \"Topic4\", \"Topic4\", \"Topic4\", \"Topic4\", \"Topic4\", \"Topic4\", \"Topic4\", \"Topic4\", \"Topic4\", \"Topic4\", \"Topic4\", \"Topic4\", \"Topic4\", \"Topic4\", \"Topic4\", \"Topic4\", \"Topic4\", \"Topic4\", \"Topic4\", \"Topic4\", \"Topic4\", \"Topic4\", \"Topic4\", \"Topic4\", \"Topic4\", \"Topic4\", \"Topic4\", \"Topic4\", \"Topic4\", \"Topic4\", \"Topic4\", \"Topic4\", \"Topic4\", \"Topic4\", \"Topic4\", \"Topic4\", \"Topic4\", \"Topic4\", \"Topic4\", \"Topic4\", \"Topic4\", \"Topic4\", \"Topic4\", \"Topic4\", \"Topic4\", \"Topic4\", \"Topic4\", \"Topic4\", \"Topic4\", \"Topic4\", \"Topic4\", \"Topic4\", \"Topic4\", \"Topic4\", \"Topic4\", \"Topic4\", \"Topic4\", \"Topic4\", \"Topic4\", \"Topic4\", \"Topic5\", \"Topic5\", \"Topic5\", \"Topic5\", \"Topic5\", \"Topic5\", \"Topic5\", \"Topic5\", \"Topic5\", \"Topic5\", \"Topic5\", \"Topic5\", \"Topic5\", \"Topic5\", \"Topic5\", \"Topic5\", \"Topic5\", \"Topic5\", \"Topic5\", \"Topic5\", \"Topic5\", \"Topic5\", \"Topic5\", \"Topic5\", \"Topic5\", \"Topic5\", \"Topic5\", \"Topic5\", \"Topic5\", \"Topic5\", \"Topic5\", \"Topic5\", \"Topic5\", \"Topic5\", \"Topic5\", \"Topic5\", \"Topic5\", \"Topic5\", \"Topic5\", \"Topic5\", \"Topic5\", \"Topic5\", \"Topic5\", \"Topic5\", \"Topic5\", \"Topic5\", \"Topic5\", \"Topic5\", \"Topic5\", \"Topic5\", \"Topic5\", \"Topic5\", \"Topic5\", \"Topic5\", \"Topic5\", \"Topic5\", \"Topic5\", \"Topic5\", \"Topic5\", \"Topic5\", \"Topic5\", \"Topic5\", \"Topic5\", \"Topic5\", \"Topic5\", \"Topic5\", \"Topic5\", \"Topic5\", \"Topic5\", \"Topic5\", \"Topic5\", \"Topic5\", \"Topic5\", \"Topic5\", \"Topic5\", \"Topic5\", \"Topic5\", \"Topic6\", \"Topic6\", \"Topic6\", \"Topic6\", \"Topic6\", \"Topic6\", \"Topic6\", \"Topic6\", \"Topic6\", \"Topic6\", \"Topic6\", \"Topic6\", \"Topic6\", \"Topic6\", \"Topic6\", \"Topic6\", \"Topic6\", \"Topic6\", \"Topic6\", \"Topic6\", \"Topic6\", \"Topic6\", \"Topic6\", \"Topic6\", \"Topic6\", \"Topic6\", \"Topic6\", \"Topic6\", \"Topic6\", \"Topic6\", \"Topic6\", \"Topic6\", \"Topic6\", \"Topic6\", \"Topic6\", \"Topic6\", \"Topic6\", \"Topic6\", \"Topic6\", \"Topic6\", \"Topic6\", \"Topic6\", \"Topic6\", \"Topic6\", \"Topic6\", \"Topic6\", \"Topic6\", \"Topic6\", \"Topic6\", \"Topic6\", \"Topic6\", \"Topic6\", \"Topic6\", \"Topic6\", \"Topic6\", \"Topic6\", \"Topic6\", \"Topic6\", \"Topic6\", \"Topic6\", \"Topic6\", \"Topic6\", \"Topic6\", \"Topic6\", \"Topic6\", \"Topic6\", \"Topic6\", \"Topic6\", \"Topic6\"], \"logprob\": [30.0, 29.0, 28.0, 27.0, 26.0, 25.0, 24.0, 23.0, 22.0, 21.0, 20.0, 19.0, 18.0, 17.0, 16.0, 15.0, 14.0, 13.0, 12.0, 11.0, 10.0, 9.0, 8.0, 7.0, 6.0, 5.0, 4.0, 3.0, 2.0, 1.0, -5.1334, -5.7399, -6.2062, -7.2561, -6.6307, -6.5155, -5.3454, -7.2727, -5.7965, -7.5661, -7.5667, -5.9253, -6.8116, -7.5845, -5.9444, -6.2996, -6.316, -5.7465, -6.7199, -6.2988, -6.1767, -7.1346, -5.0073, -6.2339, -5.1955, -7.1584, -5.4566, -7.2662, -6.2894, -6.5816, -6.3623, -5.969, -6.0346, -4.0161, -6.4532, -5.9067, -5.5533, -5.2559, -4.9445, -5.9337, -5.6298, -6.0597, -5.2792, -5.9163, -5.0522, -5.2101, -5.7746, -5.3093, -5.6935, -5.9537, -5.2888, -5.7372, -5.7844, -5.6023, -5.6074, -5.7581, -5.862, -5.8504, -5.8972, -6.1898, -6.5808, -6.0511, -6.8904, -7.4712, -7.2492, -5.9594, -5.8912, -6.2351, -6.4516, -6.9884, -7.7872, -6.8053, -7.9133, -7.9135, -6.7029, -8.0636, -8.0639, -8.0735, -6.533, -8.241, -8.2452, -6.9958, -6.4867, -7.0595, -7.1723, -6.2787, -6.3839, -7.3116, -6.9956, -5.9767, -6.4363, -5.3539, -5.5508, -5.7599, -5.6767, -5.4994, -5.9709, -5.3215, -6.4201, -5.5722, -5.5004, -5.6958, -5.8049, -5.8876, -5.1432, -5.9385, -5.5263, -5.7805, -5.3336, -5.8414, -5.61, -5.7375, -5.4287, -5.4434, -5.8743, -5.1537, -5.7926, -5.4368, -5.6704, -5.7333, -5.8561, -5.9302, -5.7971, -6.2497, -6.3154, -6.4105, -6.4614, -6.6967, -6.8014, -6.8785, -6.9184, -6.9185, -5.9956, -6.1902, -7.0511, -5.7242, -7.0519, -7.0994, -7.1506, -5.9438, -7.2608, -7.3213, -6.4919, -7.3843, -7.3843, -6.4448, -7.4527, -7.5257, -7.5258, -7.5258, -7.5258, -7.5258, -6.7413, -6.8821, -6.9213, -6.6342, -5.9055, -5.8053, -5.3961, -5.8597, -6.4072, -5.6382, -5.4184, -5.789, -6.4397, -4.8681, -6.2481, -6.0326, -5.7234, -4.7231, -6.3254, -6.5045, -6.3248, -5.2649, -6.0941, -5.8752, -5.2479, -5.9725, -5.4198, -5.5212, -5.5165, -5.7228, -5.6116, -5.9209, -5.5638, -5.2897, -5.7775, -5.5638, -5.9329, -5.7928, -5.8669, -5.9219, -5.9367, -6.2426, -6.5101, -6.6516, -6.8665, -5.6977, -5.1005, -7.3309, -7.4347, -6.6476, -6.3765, -7.5497, -7.6804, -6.8716, -6.1816, -6.6801, -6.8303, -7.838, -6.7095, -7.2389, -6.3119, -7.6231, -7.2561, -7.7512, -6.9396, -7.0012, -7.6438, -6.4795, -7.4478, -7.2072, -6.6, -5.726, -6.9795, -6.6248, -5.113, -5.604, -5.6451, -6.7973, -6.2597, -6.1988, -5.306, -5.9681, -5.6334, -6.0621, -6.4408, -6.49, -5.8476, -5.8926, -6.2593, -5.885, -5.6256, -6.1375, -6.1604, -6.3932, -5.4679, -5.6894, -6.0467, -6.1582, -5.6086, -6.1782, -5.7574, -5.9237, -5.8252, -5.9231, -5.9564, -5.9401, -6.0811, -6.0889, -6.1286, -6.1379, -6.5131, -6.9625, -7.0614, -6.2545, -7.1718, -6.3039, -7.3639, -7.439, -7.5159, -7.5166, -7.5203, -7.6022, -6.8719, -6.3062, -6.7949, -7.6969, -7.3262, -7.3919, -7.7994, -6.5199, -6.9693, -7.2164, -6.8885, -7.0614, -7.0614, -7.1637, -6.4714, -6.9718, -7.9149, -7.9151, -7.0687, -6.4047, -4.9239, -5.3924, -5.261, -6.6229, -6.4892, -6.4854, -6.6865, -6.7769, -6.6108, -6.0978, -6.3816, -4.6074, -6.3863, -4.4015, -5.8936, -5.5504, -5.41, -5.6736, -4.9796, -5.9685, -6.0897, -5.7178, -5.1622, -6.1509, -6.3322, -5.8759, -6.0514, -5.495, -5.3186, -5.8845, -5.9322, -5.819, -5.4676, -5.553, -5.6937, -5.8424, -5.652, -6.0797, -6.0525, -5.9904, -6.0412, -5.9084, -5.9116, -6.0327, -6.0488, -6.1061, -6.4586, -6.5117, -6.6644, -6.8459, -6.9508, -6.9508, -6.9508, -7.068, -7.0389, -6.558, -7.0996, -5.4181, -6.3936, -7.2008, -7.2369, -7.237, -7.2371, -7.2745, -7.2747, -7.2747, -7.3963, -6.6066, -6.6646, -7.4867, -7.4868, -5.9739, -6.1009, -7.5354, -7.5857, -5.7422, -5.58, -6.7371, -6.4998, -6.9251, -5.685, -6.4778, -5.6793, -6.1094, -4.0776, -6.5387, -6.1231, -6.0504, -5.9517, -5.6789, -6.0299, -6.2059, -5.562, -5.6466, -5.2882, -5.3481, -6.1806, -5.5514, -5.3498, -5.4247, -5.975, -5.7938, -6.0153, -5.7423, -5.9423, -5.4511, -5.5482, -5.4951, -5.9729, -5.6587, -5.8028, -5.9114, -5.9853, -5.9495], \"loglift\": [30.0, 29.0, 28.0, 27.0, 26.0, 25.0, 24.0, 23.0, 22.0, 21.0, 20.0, 19.0, 18.0, 17.0, 16.0, 15.0, 14.0, 13.0, 12.0, 11.0, 10.0, 9.0, 8.0, 7.0, 6.0, 5.0, 4.0, 3.0, 2.0, 1.0, 2.5458, 2.5094, 2.5077, 2.4696, 2.4672, 2.4537, 2.4533, 2.4526, 2.4511, 2.4463, 2.4456, 2.4426, 2.4281, 2.4276, 2.4226, 2.4126, 2.3928, 2.3919, 2.3741, 2.3701, 2.3687, 2.3622, 2.3481, 2.3442, 2.3438, 2.3373, 2.335, 2.335, 2.3309, 2.3252, 2.2981, 2.2789, 2.2705, 2.0167, 2.2973, 2.1962, 2.0954, 1.9151, 1.7111, 2.0759, 1.922, 2.1022, 1.4847, 1.9206, 1.15, 1.2836, 1.6659, 0.9788, 1.4487, 1.8552, 0.484, 1.2183, 1.2017, 0.5485, 0.4005, 0.3604, 0.7507, 0.3329, 0.9725, 1.8851, 1.8754, 1.8662, 1.853, 1.8317, 1.8311, 1.8193, 1.8171, 1.8159, 1.8082, 1.8038, 1.8032, 1.8026, 1.7947, 1.7945, 1.7869, 1.7778, 1.7775, 1.7676, 1.7575, 1.7544, 1.7502, 1.7456, 1.7443, 1.7342, 1.7252, 1.7247, 1.7148, 1.7031, 1.702, 1.6817, 1.685, 1.6207, 1.62, 1.6224, 1.6102, 1.591, 1.6221, 1.5554, 1.648, 1.5522, 1.4536, 1.4853, 1.4931, 1.5046, 1.2495, 1.4731, 1.2533, 1.3656, 1.1111, 1.3401, 1.1948, 1.2565, 0.9601, 0.8536, 1.2294, 0.3919, 1.1342, 0.6603, 0.743, 0.7009, -0.0832, 0.4202, 1.6362, 1.6301, 1.6289, 1.6271, 1.6261, 1.6207, 1.6178, 1.615, 1.6142, 1.6142, 1.613, 1.6101, 1.6095, 1.6089, 1.6088, 1.6078, 1.6055, 1.6036, 1.6009, 1.5976, 1.5966, 1.5953, 1.5953, 1.5937, 1.5915, 1.5877, 1.5876, 1.5876, 1.5876, 1.5876, 1.5777, 1.5751, 1.5737, 1.563, 1.5183, 1.4958, 1.4555, 1.4896, 1.5167, 1.4173, 1.3224, 1.3824, 1.487, 1.172, 1.4483, 1.3965, 1.3162, 1.0498, 1.4453, 1.4899, 1.4033, 0.8941, 1.2739, 1.1556, 0.7727, 1.1691, 0.7687, 0.8391, 0.5967, 0.7078, 0.5397, 0.9218, 0.3583, -0.2419, 0.5107, -0.0182, 0.8265, 0.2953, 0.2302, 0.5016, 0.5508, 2.1146, 2.1027, 2.0947, 2.0911, 2.0848, 2.074, 2.0615, 2.053, 2.0522, 2.0461, 2.0433, 2.0301, 2.0283, 2.0228, 2.0186, 2.0152, 2.0058, 1.9922, 1.9834, 1.9782, 1.9674, 1.9656, 1.9571, 1.9564, 1.956, 1.9489, 1.9439, 1.9408, 1.94, 1.9285, 1.9027, 1.9219, 1.9018, 1.8109, 1.8376, 1.837, 1.9047, 1.838, 1.8293, 1.6163, 1.7024, 1.5966, 1.697, 1.7959, 1.7989, 1.5449, 1.5324, 1.674, 1.4031, 1.1662, 1.5262, 1.518, 1.7219, 0.7155, 0.8994, 1.266, 1.3416, 0.4315, 1.3412, 0.2504, 0.6495, 0.3338, 0.5481, 0.394, 0.2484, 0.7886, 0.7394, 0.831, 0.0134, 1.7433, 1.7291, 1.7255, 1.7208, 1.7205, 1.7179, 1.7107, 1.7045, 1.7017, 1.701, 1.6972, 1.6954, 1.6929, 1.6927, 1.6908, 1.6877, 1.6831, 1.6819, 1.6805, 1.6798, 1.6762, 1.6761, 1.6758, 1.6754, 1.6754, 1.6748, 1.674, 1.6739, 1.6704, 1.6701, 1.67, 1.6622, 1.6393, 1.6375, 1.6283, 1.6612, 1.6553, 1.6335, 1.6312, 1.6354, 1.6167, 1.5539, 1.5747, 1.3147, 1.5676, 1.1442, 1.4361, 1.3115, 1.2741, 1.328, 1.041, 1.3282, 1.368, 1.2095, 0.9509, 1.3817, 1.456, 1.2029, 1.2935, 0.9497, 0.7785, 1.176, 1.1968, 1.0601, 0.7346, 0.744, 0.8795, 1.0319, 0.7614, 1.2403, 1.1346, 0.9635, 1.1001, 0.5257, 0.519, 0.3367, 0.7872, 1.206, 1.202, 1.2002, 1.1988, 1.1957, 1.1935, 1.1935, 1.1934, 1.1908, 1.1901, 1.1899, 1.1899, 1.1899, 1.1878, 1.1873, 1.1863, 1.1862, 1.1861, 1.1851, 1.1849, 1.1849, 1.1812, 1.1788, 1.1783, 1.1779, 1.1778, 1.1772, 1.1769, 1.1758, 1.1743, 1.1611, 1.1571, 1.1678, 1.1619, 1.1674, 1.1219, 1.1516, 1.1091, 1.1148, 0.9702, 1.1406, 1.1002, 1.0895, 1.0664, 1.0296, 1.0666, 1.0883, 0.9916, 0.9933, 0.9054, 0.9103, 1.0659, 0.924, 0.7383, 0.726, 0.9385, 0.846, 0.9216, 0.7656, 0.8784, 0.5568, 0.5703, 0.5242, 0.8644, 0.3741, 0.5645, 0.6899, 0.8438, 0.2018]}, \"token.table\": {\"Topic\": [1, 2, 3, 4, 5, 6, 5, 1, 2, 3, 5, 6, 2, 3, 5, 6, 2, 3, 4, 5, 6, 4, 5, 5, 6, 2, 3, 4, 5, 6, 1, 2, 3, 4, 5, 5, 2, 3, 4, 5, 2, 1, 2, 4, 2, 3, 3, 3, 2, 3, 4, 5, 6, 1, 3, 4, 5, 6, 5, 1, 2, 3, 4, 5, 6, 1, 2, 3, 4, 5, 1, 2, 4, 6, 1, 4, 6, 5, 3, 5, 6, 2, 4, 5, 1, 2, 3, 4, 5, 1, 2, 3, 4, 5, 6, 6, 1, 6, 2, 4, 6, 6, 6, 6, 3, 4, 4, 5, 6, 1, 3, 1, 2, 3, 4, 5, 6, 2, 3, 5, 6, 5, 6, 6, 1, 2, 3, 4, 1, 2, 3, 6, 1, 5, 1, 2, 3, 4, 5, 6, 1, 5, 1, 2, 3, 5, 6, 4, 3, 4, 6, 1, 4, 2, 4, 6, 2, 4, 3, 4, 6, 1, 2, 3, 5, 6, 2, 3, 4, 5, 3, 4, 5, 6, 4, 1, 2, 3, 6, 6, 1, 2, 3, 4, 6, 6, 3, 4, 1, 2, 3, 4, 6, 2, 4, 6, 1, 2, 3, 4, 5, 6, 1, 2, 3, 5, 6, 1, 2, 3, 4, 6, 2, 5, 3, 4, 5, 6, 3, 2, 3, 4, 5, 6, 2, 6, 1, 3, 3, 3, 2, 4, 1, 6, 1, 2, 6, 2, 3, 4, 6, 1, 2, 3, 4, 5, 6, 1, 2, 5, 5, 6, 1, 2, 3, 5, 2, 3, 5, 6, 1, 2, 3, 4, 5, 6, 1, 2, 3, 5, 6, 6, 2, 4, 3, 4, 3, 5, 3, 2, 4, 5, 1, 2, 3, 4, 5, 6, 1, 2, 3, 4, 6, 1, 2, 3, 4, 5, 6, 3, 4, 3, 2, 3, 4, 5, 1, 2, 3, 4, 5, 1, 2, 3, 4, 5, 3, 4, 6, 4, 6, 1, 2, 3, 4, 5, 6, 1, 2, 3, 6, 1, 2, 3, 5, 6, 1, 2, 3, 6, 1, 2, 3, 4, 5, 3, 5, 2, 2, 6, 1, 2, 4, 1, 6, 1, 6, 1, 2, 3, 4, 5, 2, 5, 3, 4, 6, 4, 6, 1, 2, 3, 4, 6, 1, 2, 3, 6, 1, 2, 3, 4, 5, 6, 2, 3, 4, 5, 6, 1, 2, 3, 2, 5, 2, 2, 5, 1, 6, 2, 1, 2, 3, 6, 1, 6, 4, 6, 3, 5, 6, 6, 1, 2, 3, 4, 5, 6, 3, 2, 6, 3, 6, 2, 3, 4, 5, 6, 1, 2, 3, 4, 5, 6, 3, 3, 6, 1, 2, 3, 4, 5, 6, 1, 2, 3, 4, 5, 6, 5, 6, 1, 3, 6, 6, 6, 3, 1, 2, 3, 4, 6, 4, 5, 6, 1, 2, 3, 4, 6, 1, 2, 1, 2, 3, 4, 5, 6, 5, 6, 1, 2, 3, 4, 5, 6, 1, 2, 3, 4, 5, 6, 1, 2, 4, 6, 2, 4, 5, 6, 2, 4, 5, 6, 1, 2, 4, 5, 1, 2, 3, 4, 5, 1, 4, 4, 6, 4, 5, 1, 2, 3, 4, 5, 6, 2, 3, 5, 2, 4, 5, 2, 2, 3, 4, 5, 6, 1, 2, 3, 4, 5, 6, 2, 3, 2, 3, 1, 2, 3, 4, 5, 3, 3, 4, 5, 6, 1, 2, 3, 4, 5, 6, 1, 2, 3, 4, 5, 6, 2, 4, 5, 3, 5, 1, 2, 3, 4, 5, 6, 2, 3, 6, 4, 5, 6, 1, 2, 3, 4, 5, 6, 1, 2, 4, 5, 6, 1, 3, 1, 3, 4, 5, 6, 1, 3, 4, 6, 1, 2, 3, 4, 5, 6, 2, 3, 6, 1, 6, 2, 3, 2, 3, 5, 2, 4, 5, 6, 1, 2, 3, 4, 5, 6, 2, 3, 5, 2, 4, 5, 6, 2, 5, 1, 2, 3, 4, 4, 3, 4, 6, 4, 1, 2, 4, 5, 2, 3, 4, 5, 6, 1, 2, 3, 4, 6, 2, 3, 4, 1, 2, 3, 4, 5, 6, 2, 3, 5, 2, 3, 4, 5, 6, 2, 4, 2, 3, 1, 2, 4, 3, 1, 6, 2, 4, 1, 2, 3, 4, 5, 6, 1, 3, 6, 5, 1, 4, 6, 2, 4, 3, 1, 2, 3, 4, 5, 6, 2, 3, 4, 6, 1, 2, 3, 5, 6, 3, 2, 3, 1, 2, 3, 4, 5, 6, 3, 1, 4, 6, 1, 2, 6, 1, 6, 1, 2, 1, 3, 6, 1, 2, 3, 4, 5, 6, 2, 5, 2, 5, 5, 6, 1, 2, 3, 4, 5, 6, 2, 4, 5, 6, 1, 2, 3, 4, 6, 1, 2, 3, 4, 6, 1, 2, 3, 4, 5, 6, 1, 2, 3, 4, 5, 6, 3, 6, 2, 2, 3, 4, 5, 1, 2, 4, 5, 6, 3, 4, 1, 2, 3, 4, 5, 6, 3, 4, 1, 2, 3, 4, 5, 6, 2, 5, 2, 3, 4, 5, 6, 4, 1, 2, 3, 4, 5, 6, 3, 2, 5, 6, 4, 5, 1, 2, 3, 4, 5, 6, 5, 6, 3, 4, 5, 1, 2, 5, 5, 3, 4, 6, 3, 2, 4, 5, 6, 4, 5, 2, 5, 6, 5, 6, 1, 2, 3, 4, 5, 6, 1, 4, 5, 6, 1, 6, 1, 3, 6, 2, 3, 5, 6, 2, 3, 5, 6, 2, 5, 6, 4, 6, 1, 2, 3, 4, 5, 6, 1, 2, 3, 4, 5, 6, 3, 4, 5, 6, 1, 2, 4, 5, 6, 1, 2, 3, 4, 5, 6, 2, 3, 4, 5, 1, 2, 3, 4, 5, 6, 2, 3, 4, 5, 6, 2, 3, 5, 1, 3, 2, 1, 3, 1, 2, 5, 1, 2, 3, 4, 5, 6, 6, 3, 4, 3, 4, 5, 2, 3, 4, 5, 6, 1, 2, 3, 4, 5, 6, 2, 3, 4, 5, 6, 1, 2, 3, 5, 1, 2, 3, 4, 5, 6, 2, 4, 2, 5, 1, 4, 5, 6, 2, 4, 5, 6, 1, 3, 5, 1, 6, 4, 6, 1, 2, 3, 4, 5, 6, 2, 5, 2, 4, 5, 5, 6, 4, 5, 4, 6, 2, 5, 6, 2, 4, 5, 2, 3, 4, 5, 5, 1, 4, 3, 4, 5, 6, 1, 2, 4, 5, 6, 3, 6, 1, 2, 3, 4, 5, 6, 2, 1, 4, 5, 6, 3, 5, 4, 5, 3, 2, 3, 4, 5, 4, 2, 3, 4, 5, 1, 2, 3, 4, 6, 1, 2, 3, 4, 5, 6, 1, 2, 3, 6, 3, 5, 3, 5, 1, 2, 3, 4, 6, 4, 3, 3, 5, 2, 3, 4, 5, 6, 6, 1, 2, 3, 4, 5, 6, 2, 3, 4, 5, 6, 2, 6, 1, 2, 4, 5, 6, 1, 2, 3, 4, 5, 6, 1, 2, 3, 4, 5, 6, 1, 3, 4, 6, 1, 2, 3, 5, 6, 1, 5, 1, 6, 6, 3, 4, 5, 6, 1, 2, 3, 4, 5, 6, 2, 3, 4, 5, 6, 6, 6, 1, 2, 3, 4, 5, 6], \"Freq\": [0.04635928673345466, 0.28885401733921745, 0.24249473060576282, 0.02139659387697907, 0.37087429386763726, 0.03209489081546861, 0.969526056965415, 0.015916379428667773, 0.7480698331473854, 0.09549827657200664, 0.04774913828600332, 0.07958189714333887, 0.7077335395653949, 0.054441041505030374, 0.12443666629721228, 0.11665937465363652, 0.5246464843373134, 0.01748821614457711, 0.03497643228915422, 0.27106735024094525, 0.14864983722890546, 0.9569454103799524, 0.933601662660935, 0.8895694043830362, 0.09531100761246816, 0.153241100476219, 0.06895849521429856, 0.11493082535716426, 0.6359505669763089, 0.030648220095243803, 0.5078583101999183, 0.06094299722399019, 0.2844006537119543, 0.10157166203998366, 0.04062866481599346, 0.9754393300972238, 0.18790898098534914, 0.4810469913224938, 0.18039262174593515, 0.1503271847882793, 0.9046748323416031, 0.3963217631173883, 0.31432415695517, 0.286991621567764, 0.911000290157694, 0.07145100314962306, 0.9791432180404523, 0.955316218005576, 0.12139790586508795, 0.4704168852272158, 0.16312843600621194, 0.06069895293254397, 0.18209685879763193, 0.940053107767199, 0.392921342528835, 0.5466731722140313, 0.051250609895065434, 0.01708353663168848, 0.9336117284148797, 0.32649621635859627, 0.15977474417548326, 0.13893456015259414, 0.15977474417548326, 0.14588128816022386, 0.06252055206866737, 0.3143700908945714, 0.21296038415438706, 0.20281941348036864, 0.06084582404411059, 0.20281941348036864, 0.017200389332342587, 0.05160116799702776, 0.6364144052966757, 0.2752062293174814, 0.11780110762591278, 0.8246077533813895, 0.05890055381295639, 0.962873615896363, 0.05113648099963138, 0.8948884174935492, 0.05113648099963138, 0.06570838532761078, 0.03285419266380539, 0.8870632019227456, 0.252430486850709, 0.3449883320293023, 0.0252430486850709, 0.1262152434253545, 0.252430486850709, 0.024203452032286882, 0.024203452032286882, 0.1452207121937213, 0.024203452032286882, 0.024203452032286882, 0.758374830344989, 0.9668091741442355, 0.015732703737395437, 0.9754276317185171, 0.9680288661814266, 0.8283314355783571, 0.1506057155597013, 0.972136469601175, 0.966812215333886, 0.9760483231380215, 0.9580907177316881, 0.03041557834068851, 0.8113014491596268, 0.040565072457981334, 0.12169521737394401, 0.9277138767948767, 0.04882704614709878, 0.04592574708625096, 0.02296287354312548, 0.18944370673078523, 0.22388801704547345, 0.41333172377625865, 0.10907364932984603, 0.9793142153592967, 0.9677105238246337, 0.9097313294686744, 0.06997933303605187, 0.9888162371477072, 0.9856143121197503, 0.9844495076144618, 0.09505979276072891, 0.038023917104291566, 0.8175142177422686, 0.019011958552145783, 0.12216889748994861, 0.5803022630772559, 0.08144593165996573, 0.21379557060741006, 0.7838435364114179, 0.165019691876088, 0.019170584523353452, 0.5176057821305432, 0.06230439970089872, 0.14377938392515088, 0.11502350714012072, 0.13898673779431253, 0.042066888170235926, 0.9254715397451904, 0.006136705902411996, 0.07977717673135595, 0.09205058853617994, 0.01841011770723599, 0.7977717673135595, 0.9345241123445995, 0.9852818151559818, 0.862902255033039, 0.12783737111600577, 0.09646699469204735, 0.8682029522284261, 0.0364881415423813, 0.9122035385595326, 0.0364881415423813, 0.146068085244848, 0.803374468846664, 0.9319559717442032, 0.02912362411700635, 0.02912362411700635, 0.055674566772026673, 0.055674566772026673, 0.4453965341762134, 0.17630279477808447, 0.2644541921671267, 0.06850435195174145, 0.04566956796782764, 0.06850435195174145, 0.8220522234208975, 0.02001563862528054, 0.07005473518848189, 0.5604378815078551, 0.3402658566297692, 0.9624415543139749, 0.778216526025195, 0.03765563835605782, 0.16317443287625055, 0.02510375890403855, 0.9620662028875021, 0.050976672498174315, 0.7986345358047309, 0.10195334499634863, 0.03398444833211621, 0.016992224166058105, 0.9798241599968733, 0.08118483300530863, 0.8930331630583949, 0.03260666492996094, 0.01630333246498047, 0.024454998697470705, 0.7173466284591408, 0.2037916558122559, 0.04809144175899702, 0.8656459516619462, 0.04809144175899702, 0.048396715991015506, 0.04301930310312489, 0.20434168973984324, 0.04301930310312489, 0.021509651551562446, 0.6399121336589828, 0.01390182097794585, 0.04170546293383755, 0.23633095662507944, 0.6672874069414008, 0.0278036419558917, 0.09072143146230874, 0.05443285887738524, 0.6078335907974685, 0.21773143550954097, 0.02721642943869262, 0.058376406068688456, 0.9340224970990153, 0.87354917880109, 0.06719609067700692, 0.026878436270802768, 0.013439218135401384, 0.977617095915089, 0.49210491825107566, 0.03618418516552027, 0.11578939252966486, 0.20986827396001756, 0.15197357769518513, 0.8975350687035195, 0.07804652771334952, 0.7672447785534511, 0.21312354959818086, 0.9725960343900243, 0.9464606856155022, 0.05569312051499505, 0.8910899282399208, 0.7477656841517593, 0.10682366916453703, 0.8238284514563312, 0.08238284514563313, 0.10984379352751084, 0.6505301162496963, 0.19914187232133557, 0.13276124821422372, 0.013276124821422371, 0.24291702207903357, 0.28629506173600383, 0.02602682379418217, 0.04337803965697028, 0.3730511410499444, 0.01735121586278811, 0.12419870364455579, 0.24839740728911158, 0.6209935182227789, 0.018584490167913217, 0.9663934887314872, 0.05404604736828628, 0.1351151184207157, 0.7836676868401511, 0.02702302368414314, 0.059176274922648694, 0.26037560965965423, 0.6391037691646059, 0.03550576495358922, 0.11756641215194379, 0.10373506954583275, 0.44260296339555305, 0.0414940278183331, 0.20055446778860997, 0.09681939824277723, 0.02803512758347821, 0.23362606319565174, 0.12148555286173891, 0.5513575091417381, 0.06541529769478249, 0.9857678059683233, 0.1245520296484315, 0.8095881927148048, 0.9211112783120208, 0.03289683136828645, 0.9405110826152582, 0.02612530785042384, 0.972216468990961, 0.11757792711310391, 0.8230454897917274, 0.9696345032639674, 0.5010015196576839, 0.04175012663814033, 0.19831310153116657, 0.020875063319070165, 0.08350025327628066, 0.15656297489302623, 0.07517374542980626, 0.07517374542980626, 0.1691409272170641, 0.6389768361533533, 0.03758687271490313, 0.009897846173704856, 0.11877415408445827, 0.15506625672137608, 0.09897846173704855, 0.11547487202655665, 0.501490872801046, 0.9700296496926911, 0.016167160828211517, 0.9776149837989421, 0.17316683668400143, 0.044895105806963334, 0.16675325014014952, 0.609290721665931, 0.25565943396401086, 0.16146911618779636, 0.013455759682316363, 0.5382303872926545, 0.026911519364632725, 0.0454366819194853, 0.4493182989815768, 0.005048520213276144, 0.06058224255931373, 0.43922125855502453, 0.031943756708090604, 0.02395781753106795, 0.9503267620656953, 0.8629007662853796, 0.09587786292059773, 0.129476393050356, 0.016888225180481217, 0.028147041967468697, 0.011258816786987478, 0.022517633573974957, 0.799375991876111, 0.8576217929646099, 0.03062934974873607, 0.06125869949747214, 0.03062934974873607, 0.03132393426663835, 0.041765245688851135, 0.772657045243746, 0.052206557111063916, 0.10441311422212783, 0.7558758384993829, 0.04446328461761075, 0.0889265692352215, 0.0889265692352215, 0.0821356210391529, 0.1642712420783058, 0.07040196089070247, 0.4810800660864669, 0.21120588267210744, 0.944417261033904, 0.024853085816681685, 0.9810515898704517, 0.899146704319825, 0.062010117539298276, 0.09089384720861951, 0.18178769441723902, 0.6968528285994163, 0.7114710661716883, 0.11857851102861472, 0.7405104173188565, 0.23140950541214264, 0.15406366024141574, 0.7318023861467248, 0.019257957530176967, 0.028886936295265453, 0.0674028513556194, 0.90466767847815, 0.9549068931254394, 0.09106239888336341, 0.020236088640747423, 0.8802698558725129, 0.9426706652494445, 0.0384763536836508, 0.19305938413196091, 0.007722375365278437, 0.07722375365278436, 0.25483838705418843, 0.45562014655142774, 0.025596639529179142, 0.7678991858753742, 0.10238655811671657, 0.10238655811671657, 0.02643245482495299, 0.17621636549968658, 0.11454063757479628, 0.02643245482495299, 0.643189734073856, 0.00881081827498433, 0.010474561161821798, 0.020949122323643595, 0.93223594340214, 0.010474561161821798, 0.03142368348546539, 0.7137269458735948, 0.22709493732341654, 0.032442133903345216, 0.05530567510660001, 0.8848908017056002, 0.9044173206360614, 0.11782967690165953, 0.8791906661123826, 0.8941928491436002, 0.9844450127477591, 0.8793446221540585, 0.6626146668263062, 0.02650458667305225, 0.18553210671136575, 0.106018346692209, 0.8258346496619952, 0.1457355264109403, 0.7918716473765972, 0.13197860789609953, 0.02201481729385426, 0.0770518605284899, 0.9026075090480246, 0.9902217273715515, 0.024978238110587823, 0.29973885732705385, 0.27476061921646605, 0.08492600957599859, 0.28974756208281877, 0.024978238110587823, 0.9464585243784961, 0.019294191117144324, 0.9647095558572162, 0.021743348746732942, 0.9567073448562494, 0.05232729459108611, 0.19435852276689125, 0.007475327798726587, 0.03737663899363294, 0.7026808130802992, 0.11089959980097452, 0.061973305771132824, 0.09459083512436063, 0.15004063502484788, 0.061973305771132824, 0.5186187167163221, 0.9464600643343412, 0.054110147654891305, 0.9401638155037364, 0.010871593181989126, 0.14133071136585865, 0.3515148462176484, 0.03986250833396013, 0.4421114560675578, 0.018119321969981877, 0.02471304916761631, 0.08896697700341871, 0.3163270293454888, 0.13345046550512807, 0.11368002617103502, 0.321269639179012, 0.9121645194046818, 0.04560822597023409, 0.7597201564314255, 0.2025920417150468, 0.9601894456483933, 0.9668092804892812, 0.973903629617415, 0.9464596444764787, 0.11112961917488383, 0.014817282556651178, 0.14076418428818618, 0.24448516218474445, 0.4889703243694889, 0.038697289494762845, 0.7352485004004939, 0.21283509222119562, 0.5794240059252441, 0.14485600148131103, 0.09657066765420737, 0.048285333827103684, 0.1207133345677592, 0.7935587844409995, 0.18671971398611753, 0.06432127185447933, 0.22512445149067767, 0.08729315465965053, 0.17458630931930105, 0.11485941402585595, 0.33079511239446513, 0.034097952699369743, 0.9547426755823528, 0.12792907412839422, 0.06396453706419711, 0.07148977671880853, 0.04515143792766855, 0.07525239654611425, 0.6133070318508311, 0.1985799394423992, 0.02158477602634774, 0.3194546851899466, 0.05180346246323458, 0.06475432807904322, 0.3410394612162943, 0.7693257710580266, 0.030169638080706922, 0.10559373328247423, 0.09050891424212076, 0.18348764980465915, 0.07339505992186365, 0.7217180892316594, 0.024465019973954553, 0.053867629483147626, 0.026933814741573813, 0.861882071730362, 0.026933814741573813, 0.05157583476190817, 0.7478496040476684, 0.09025771083333929, 0.10315166952381634, 0.041741148605518794, 0.7513406748993382, 0.07304701005965789, 0.010435287151379698, 0.11478815866517668, 0.8261300013389565, 0.08261300013389565, 0.8212544886548013, 0.11732206980782876, 0.058399183214201275, 0.9051873398201197, 0.14185513363112756, 0.2538460286030704, 0.029864238659184746, 0.08959271597755424, 0.3733029832398093, 0.1119908949719428, 0.05526030565901559, 0.027630152829507794, 0.8841648905442494, 0.049183820311682766, 0.7377573046752415, 0.19673528124673106, 0.9236768830857208, 0.6384588010661837, 0.02520232109471778, 0.01680154739647852, 0.1848170213612637, 0.13441237917182816, 0.05904328173945435, 0.06494760991339978, 0.24798178330570825, 0.02361731269578174, 0.01180865634789087, 0.5904328173945435, 0.037771643638961606, 0.9442910909740401, 0.9554235994632011, 0.9700689205625264, 0.007583481741052592, 0.015166963482105184, 0.8265995097747326, 0.053084372187368147, 0.0985852626336837, 0.9904390011021408, 0.0549898902611124, 0.01099797805222248, 0.032993934156667445, 0.8908362222300209, 0.020823013088770385, 0.010411506544385192, 0.1353495850770075, 0.06246903926631115, 0.02602876636096298, 0.7496284711957338, 0.0290010505222508, 0.0290010505222508, 0.3335120810058842, 0.4495162830948874, 0.13050472735012858, 0.0290010505222508, 0.8214097159469036, 0.05867212256763597, 0.05867212256763597, 0.9596839292515632, 0.019585386311256392, 0.020263063745315345, 0.09118378685391905, 0.23302523307112646, 0.09118378685391905, 0.5167081255055412, 0.05065765936328836, 0.05466070216770397, 0.7834700644037569, 0.1457618724472106, 0.03301380715462198, 0.03301380715462198, 0.9408935039067264, 0.03681693718249775, 0.006136156197082958, 0.21476546689790352, 0.04908924957666366, 0.012272312394165916, 0.6933856502703742, 0.14431268170081396, 0.14431268170081396, 0.4209119882940407, 0.2525471929764244, 0.03607817042520349, 0.8824292450276962, 0.1260613207182423, 0.04609439504089569, 0.12571198647517007, 0.041903995491723356, 0.05028479459006803, 0.7375103206543311, 0.011888592614968626, 0.005944296307484313, 0.005944296307484313, 0.9748645944274275, 0.07795017739485446, 0.3040056918399324, 0.06236014191588357, 0.03897508869742723, 0.4910861175875831, 0.02338505321845634, 0.011613964073212258, 0.023227928146424517, 0.9639590180766174, 0.8283246162425676, 0.1380541027070946, 0.9198719167430994, 0.07665599306192494, 0.8434770191193073, 0.06024835850852195, 0.09037253776278292, 0.8632755878078235, 0.03197316991880828, 0.06394633983761656, 0.03197316991880828, 0.003534210379544028, 0.03180789341589625, 0.25799735770671406, 0.08128683872951264, 0.003534210379544028, 0.6220210267997489, 0.8532282508140369, 0.05018989710670805, 0.05018989710670805, 0.5695418951568898, 0.15820608198802494, 0.23203558691576992, 0.03164121639760499, 0.8397976325176014, 0.1439653084315888, 0.4740667556253062, 0.2765389407814286, 0.019752781484387756, 0.21728059632826532, 0.940831430785325, 0.8863739464001065, 0.022159348660002662, 0.08863739464001065, 0.9709452727329446, 0.01992367443211632, 0.6973286051240712, 0.0498091860802908, 0.2291222559693377, 0.050675289604804136, 0.6182385331786105, 0.04054023168384331, 0.06081034752576497, 0.23310633218209903, 0.10715073896450433, 0.07143382597633623, 0.3714558950769484, 0.378599277674582, 0.07143382597633623, 0.040488212625888365, 0.16195285050355346, 0.7692760398918789, 0.06739201062760378, 0.12441601962019158, 0.2747520433279231, 0.2021760318828113, 0.010368001635015965, 0.3162240498679869, 0.46601655370847567, 0.4496650956836169, 0.08175729012429397, 0.3490998978263816, 0.16291328565231142, 0.007757775507252925, 0.48098208144968135, 0.007757775507252925, 0.9058582991803369, 0.0754881915983614, 0.9222090082367203, 0.08782942935587812, 0.05288757500305102, 0.8462012000488163, 0.05288757500305102, 0.9918309395483752, 0.030696753637556282, 0.9618316139767635, 0.968668279315206, 0.02201518816625468, 0.12119504583826608, 0.1366667538176192, 0.5492456332670357, 0.007735853989676559, 0.010314471986235411, 0.175346023766002, 0.5584571717554494, 0.010032164762073942, 0.43138308476917947, 0.9453169642116146, 0.06598223793917805, 0.7917868552701366, 0.1319644758783561, 0.048143751661691346, 0.9147312815721356, 0.9464593442574224, 0.08896560199963288, 0.20134320452548493, 0.23880240536743563, 0.1170600026310959, 0.23880240536743563, 0.11237760252585206, 0.1372241354930783, 0.848294655775393, 0.012474921408461662, 0.9869929673920452, 0.026290963697579075, 0.006572740924394769, 0.05258192739515815, 0.07887289109273722, 0.8281653564737409, 0.9622037401774928, 0.3050395520668082, 0.6863389921503186, 0.02356548088212588, 0.01178274044106294, 0.1571032058808392, 0.054986122058293715, 0.0196379007351049, 0.7344574874929232, 0.9722373171172025, 0.1447574821517756, 0.77203990480947, 0.04825249405059188, 0.8286686942602952, 0.09749043461885826, 0.04874521730942913, 0.8944365708374732, 0.985764078084231, 0.7353238815395241, 0.2451079605131747, 0.10982389435309343, 0.7138553132951073, 0.16473584152964016, 0.019037081362144204, 0.16181519157822574, 0.08566686612964892, 0.057111244086432617, 0.5711124408643261, 0.10470394749179313, 0.047771497254661836, 0.9315441964659058, 0.024437732971450663, 0.9530715858865759, 0.9184305163259477, 0.0656021797375677, 0.02635346592174821, 0.11670820622488491, 0.3313007144448346, 0.12047298707084894, 0.045177370151568357, 0.36141896121254685, 0.0447385880241678, 0.6263402323383492, 0.1342157640725034, 0.1789543520966712, 0.605830720594544, 0.06731452451050489, 0.20194357353151465, 0.06731452451050489, 0.06731452451050489, 0.7571449872599276, 0.019413974032305836, 0.09706987016152918, 0.0582419220969175, 0.0582419220969175, 0.2651010134733627, 0.05302020269467254, 0.09543636485041057, 0.05302020269467254, 0.1484565675450831, 0.38704747967110953, 0.025202110361036506, 0.25202110361036506, 0.08400703453678834, 0.14281195871254018, 0.4452372830449782, 0.04200351726839417, 0.020435867335061853, 0.960485764747907, 0.9236715149993145, 0.011887331156638498, 0.8558878432779718, 0.0356619934699155, 0.08321131809646949, 0.07815333301072097, 0.013025555501786829, 0.5470733310750469, 0.26051111003573657, 0.0911788885125078, 0.9415348571708535, 0.03923061904878556, 0.010106276000258043, 0.04379386266778485, 0.623220353349246, 0.18191296800464477, 0.09769400133582774, 0.04379386266778485, 0.08113470351319567, 0.8113470351319567, 0.05068979885957947, 0.1605176963886683, 0.20275919543831789, 0.27034559391775714, 0.27034559391775714, 0.04224149904964956, 0.8976313939362952, 0.05280184670213501, 0.6636090639958241, 0.023700323714136575, 0.11850161857068288, 0.17775242785602433, 0.023700323714136575, 0.9527311775124362, 0.026131896744818167, 0.3484252899309089, 0.1437254320964999, 0.11323821922754539, 0.3571359221791816, 0.008710632248272721, 0.9589898237746807, 0.6536789699304537, 0.32683948496522686, 0.010543209192426671, 0.04204301665761586, 0.924946366467549, 0.04977613679742297, 0.1443507967125266, 0.3932314806996414, 0.11448511463407282, 0.2887015934250532, 0.019910454718969187, 0.8992443724355902, 0.04995802069086613, 0.9753843121824247, 0.8821831694933728, 0.05881221129955819, 0.6185111397660314, 0.14057071358318898, 0.25302728444974015, 0.9454869757934142, 0.18781936050101095, 0.6439520931463233, 0.13415668607215067, 0.9682447086489985, 0.5074013853524683, 0.16588122213446077, 0.2634584116253201, 0.04878859474542964, 0.9068269738510757, 0.9550478087274135, 0.7383900825851707, 0.23440955002703834, 0.011720477501351917, 0.8992443733389184, 0.049958020741051025, 0.08409900854935243, 0.02803300284978414, 0.1822145185235969, 0.08409900854935243, 0.10278767711587518, 0.5232827198626373, 0.11444415698169406, 0.02288883139633881, 0.8239979302681972, 0.04577766279267762, 0.8636141004048302, 0.13817825606477285, 0.0968832351265627, 0.03875329405062508, 0.862260792626408, 0.08888605460535164, 0.8444175187508406, 0.02222151365133791, 0.02222151365133791, 0.009990375402926762, 0.1511044279692673, 0.056195861641463035, 0.7817468752790192, 0.7547183333828007, 0.22298496213582747, 0.01715268939506365, 0.02623162032232725, 0.944338331603781, 0.04664613054119594, 0.04081536422354645, 0.06413842949414443, 0.2857075495648252, 0.04664613054119594, 0.5131074359531554, 0.022144762239054688, 0.055361905597636714, 0.09965143007574609, 0.5757638182154219, 0.18823047903196483, 0.055361905597636714, 0.343567001457774, 0.049081000208253435, 0.57261166909629, 0.024540500104126717, 0.12114594478796535, 0.19383351166074456, 0.04845837791518614, 0.5936151294610302, 0.04845837791518614, 0.01467982220213412, 0.31316954031219457, 0.15658477015609729, 0.0978654813475608, 0.366995555053353, 0.05382601474115844, 0.30760866668579023, 0.09546475862662455, 0.0636431724177497, 0.5303597701479141, 0.15527094622420368, 0.13138310834355696, 0.05374763523145512, 0.13735506781371865, 0.16721486516452705, 0.35234560873953913, 0.007875083729088624, 0.07875083729088624, 0.007875083729088624, 0.8662592101997486, 0.0315003349163545, 0.8099066893353167, 0.08099066893353167, 0.10798755857804224, 0.9543200088828394, 0.0347025457775578, 0.8793316227564194, 0.9205445184289591, 0.06136963456193061, 0.8602886159831876, 0.0977600699980895, 0.0195520139996179, 0.10980393150378165, 0.3867008022524484, 0.08115942763322992, 0.05728900774110347, 0.07161125967637934, 0.2912191226839426, 0.9760475866973187, 0.9573518714339234, 0.024547483882921113, 0.8559687882859403, 0.04755382157144113, 0.09510764314288225, 0.20703028740901006, 0.08872726603243287, 0.4436363301621644, 0.13309089904864932, 0.11830302137657717, 0.022599510318247137, 0.21983160036840396, 0.18901408629806696, 0.010272504690112334, 0.5362247448238638, 0.024654011256269603, 0.056880887764168275, 0.2754232460159727, 0.0239498474796498, 0.6346709582107197, 0.008981192804868674, 0.016879806339251277, 0.016879806339251277, 0.15191825705326148, 0.8102307042840612, 0.11718749323841225, 0.6640624616843361, 0.03906249774613742, 0.03906249774613742, 0.03906249774613742, 0.09114582807432065, 0.8166643091391959, 0.14411723102456397, 0.791584125163198, 0.13193068752719966, 0.027359651220129844, 0.7387105829435058, 0.05471930244025969, 0.16415790732077906, 0.11396476621529038, 0.7407709803993875, 0.014245595776911297, 0.14245595776911296, 0.7855039821476756, 0.07140945292251596, 0.14281890584503193, 0.7469880127917604, 0.21342514651193156, 0.820122778856023, 0.11716039697943186, 0.007056447982265235, 0.5221771506876274, 0.07056447982265235, 0.049395135875856644, 0.3245966071842008, 0.02822579192906094, 0.8181570721047349, 0.15835298169769063, 0.11366928768540387, 0.005683464384270193, 0.88093697956188, 0.9327213931398055, 0.03886339138082523, 0.05004942309696463, 0.9008896157453633, 0.8800877828447717, 0.08800877828447717, 0.03470263715912718, 0.03470263715912718, 0.9196198847168702, 0.3293951679381518, 0.5374342213727741, 0.13869270228974814, 0.16483282224917464, 0.10489361415856568, 0.05993920809060896, 0.6743160910193507, 0.9696381634755586, 0.8602487475315018, 0.07168739562762516, 0.22985611721256413, 0.044488280750818864, 0.03707356729234905, 0.6895683516376924, 0.014238036815043877, 0.014238036815043877, 0.035595092037609695, 0.035595092037609695, 0.8969963193477642, 0.1343549552247245, 0.8598717134382368, 0.8944383899119489, 0.01651794098348268, 0.15692043934308547, 0.0412948524587067, 0.03303588196696536, 0.7433073442567206, 0.9384241969714102, 0.030020379119300365, 0.030020379119300365, 0.8705909944597107, 0.06004075823860073, 0.10835144560726838, 0.866811564858147, 0.05531034950835605, 0.9126207668878749, 0.9818599199486332, 0.052732286567133725, 0.10546457313426745, 0.7382520119398721, 0.10546457313426745, 0.9582816761692405, 0.07928986097580122, 0.41627177012295646, 0.019822465243950305, 0.48234665426945744, 0.040695466824446615, 0.09766912037867187, 0.03255637345955729, 0.5941538156369206, 0.23603370758179035, 0.2337281225096486, 0.16638273127805495, 0.06338389762973522, 0.07526837843531056, 0.35653442416726056, 0.10299883364831973, 0.08264115868048681, 0.02361175962299623, 0.011805879811498115, 0.8854409858623586, 0.04560169809931347, 0.9120339619862695, 0.0233271256008942, 0.9564121496366622, 0.03192253848411135, 0.09576761545233406, 0.0638450769682227, 0.7022958466504498, 0.0638450769682227, 0.925988494600398, 0.9553160919145877, 0.9511835860668502, 0.9104114152180325, 0.052955006446835366, 0.8119767655181422, 0.03530333763122358, 0.08825834407805894, 0.9714995938956527, 0.9801802469252519, 0.5040868034823776, 0.07637678840642084, 0.13747821913155753, 0.03055071536256834, 0.01527535768128417, 0.22913036521926253, 0.1357630336381829, 0.7195440782823693, 0.033940758409545725, 0.020364455045727436, 0.08824597186481889, 0.9156687948544681, 0.9877362319215174, 0.4114330886726069, 0.031169173384288405, 0.031169173384288405, 0.21195037901316116, 0.31169173384288407, 0.10564829619817284, 0.0582887151438195, 0.14936483255603747, 0.10564829619817284, 0.051002625750842065, 0.5245984362943755, 0.02107665553075421, 0.08430662212301684, 0.3319573246093788, 0.07903745824032829, 0.01580749164806566, 0.4689555855592812, 0.007251778714116577, 0.058014229712932616, 0.02175533614234973, 0.9137241179786887, 0.027896460500763196, 0.05579292100152639, 0.7903997141882906, 0.03719528066768426, 0.08368938150228959, 0.8054606109473291, 0.9337970964630665, 0.7697811975533682, 0.17764181482000801, 0.9860218205268125, 0.056281452423841964, 0.056281452423841964, 0.022512580969536785, 0.8554780768423978, 0.10495535693909214, 0.13994047591878953, 0.08551917972814915, 0.24100859741569305, 0.1554894176875439, 0.27988095183757905, 0.14457760957585367, 0.41419531392001324, 0.15239261549887279, 0.03126002369207647, 0.2578951954596309, 0.9844522939464757, 0.9857652860216919, 0.02205738175952563, 0.03676230293254272, 0.07352460586508544, 0.13969675114366234, 0.014704921173017088, 0.7131886768913288], \"Term\": [\"000\", \"000\", \"000\", \"000\", \"000\", \"000\", \"1952\", \"1959\", \"1959\", \"1959\", \"1959\", \"1959\", \"1960\", \"1960\", \"1960\", \"1960\", \"1961\", \"1961\", \"1961\", \"1961\", \"1961\", \"academic\", \"accomplish\", \"acres\", \"acres\", \"act\", \"act\", \"act\", \"act\", \"act\", \"add\", \"add\", \"add\", \"add\", \"add\", \"adjustments\", \"administration\", \"administration\", \"administration\", \"administration\", \"advances\", \"af\", \"af\", \"af\", \"aircraft\", \"aircraft\", \"alexander\", \"allies\", \"american\", \"american\", \"american\", \"american\", \"american\", \"angle\", \"anti\", \"anti\", \"anti\", \"anti\", \"appropriated\", \"area\", \"area\", \"area\", \"area\", \"area\", \"area\", \"areas\", \"areas\", \"areas\", \"areas\", \"areas\", \"art\", \"art\", \"art\", \"art\", \"artist\", \"artist\", \"artist\", \"assigned\", \"attorney\", \"attorney\", \"attorney\", \"authorized\", \"authorized\", \"authorized\", \"available\", \"available\", \"available\", \"available\", \"available\", \"away\", \"away\", \"away\", \"away\", \"away\", \"away\", \"baby\", \"ball\", \"ball\", \"bankers\", \"bargaining\", \"bargaining\", \"baseball\", \"bed\", \"bedroom\", \"berlin\", \"berlin\", \"bible\", \"bible\", \"bible\", \"blocks\", \"blocks\", \"board\", \"board\", \"board\", \"board\", \"board\", \"board\", \"boats\", \"bombs\", \"bond\", \"bond\", \"bonds\", \"boy\", \"breakfast\", \"bridge\", \"bridge\", \"bridge\", \"bridge\", \"brown\", \"brown\", \"brown\", \"brown\", \"builder\", \"builder\", \"business\", \"business\", \"business\", \"business\", \"business\", \"business\", \"calendar\", \"calendar\", \"came\", \"came\", \"came\", \"came\", \"came\", \"campus\", \"castro\", \"catholic\", \"catholic\", \"cattle\", \"cattle\", \"chamber\", \"chamber\", \"chamber\", \"chemical\", \"chemical\", \"china\", \"china\", \"china\", \"city\", \"city\", \"city\", \"city\", \"city\", \"claim\", \"claim\", \"claim\", \"claim\", \"class\", \"class\", \"class\", \"class\", \"classical\", \"clay\", \"clay\", \"clay\", \"clay\", \"clothes\", \"co\", \"co\", \"co\", \"co\", \"co\", \"coach\", \"collective\", \"collective\", \"college\", \"college\", \"college\", \"college\", \"college\", \"colleges\", \"colleges\", \"colleges\", \"come\", \"come\", \"come\", \"come\", \"come\", \"come\", \"commission\", \"commission\", \"commission\", \"commission\", \"commission\", \"committee\", \"committee\", \"committee\", \"committee\", \"committee\", \"commodities\", \"commodities\", \"communist\", \"communist\", \"communist\", \"communist\", \"communists\", \"company\", \"company\", \"company\", \"company\", \"company\", \"concerns\", \"concerns\", \"concrete\", \"concrete\", \"congo\", \"conservative\", \"contemporary\", \"contemporary\", \"cooking\", \"cooking\", \"cooling\", \"cooling\", \"cooling\", \"corps\", \"corps\", \"corps\", \"corps\", \"cost\", \"cost\", \"cost\", \"cost\", \"cost\", \"cost\", \"costs\", \"costs\", \"costs\", \"couldn\", \"couldn\", \"council\", \"council\", \"council\", \"council\", \"countries\", \"countries\", \"countries\", \"countries\", \"country\", \"country\", \"country\", \"country\", \"country\", \"country\", \"court\", \"court\", \"court\", \"court\", \"court\", \"cousin\", \"creative\", \"creative\", \"crisis\", \"crisis\", \"cuba\", \"cuba\", \"cuban\", \"curriculum\", \"curriculum\", \"customer\", \"cut\", \"cut\", \"cut\", \"cut\", \"cut\", \"cut\", \"daily\", \"daily\", \"daily\", \"daily\", \"daily\", \"day\", \"day\", \"day\", \"day\", \"day\", \"day\", \"democratic\", \"democratic\", \"democrats\", \"department\", \"department\", \"department\", \"department\", \"design\", \"design\", \"design\", \"design\", \"design\", \"development\", \"development\", \"development\", \"development\", \"development\", \"didn\", \"didn\", \"didn\", \"dilemma\", \"dilemma\", \"don\", \"don\", \"don\", \"don\", \"don\", \"don\", \"drill\", \"drill\", \"drill\", \"drill\", \"east\", \"east\", \"east\", \"east\", \"east\", \"edges\", \"edges\", \"edges\", \"edges\", \"education\", \"education\", \"education\", \"education\", \"education\", \"eisenhower\", \"eisenhower\", \"electronic\", \"electronics\", \"electronics\", \"engineer\", \"engineer\", \"engineer\", \"entertain\", \"entertain\", \"entrance\", \"entrance\", \"equipment\", \"equipment\", \"equipment\", \"equipment\", \"equipment\", \"executives\", \"exemption\", \"eyes\", \"eyes\", \"eyes\", \"faculty\", \"faculty\", \"family\", \"family\", \"family\", \"family\", \"family\", \"farm\", \"farm\", \"farm\", \"farm\", \"federal\", \"federal\", \"federal\", \"federal\", \"federal\", \"federal\", \"feed\", \"feed\", \"feed\", \"feed\", \"feed\", \"fig\", \"fig\", \"fig\", \"filing\", \"filing\", \"films\", \"fiscal\", \"fiscal\", \"fitted\", \"football\", \"founding\", \"frame\", \"frame\", \"frame\", \"frame\", \"frames\", \"frames\", \"fulfill\", \"fulfill\", \"game\", \"game\", \"game\", \"games\", \"general\", \"general\", \"general\", \"general\", \"general\", \"general\", \"geneva\", \"george\", \"george\", \"girl\", \"girl\", \"going\", \"going\", \"going\", \"going\", \"going\", \"good\", \"good\", \"good\", \"good\", \"good\", \"good\", \"gop\", \"got\", \"got\", \"government\", \"government\", \"government\", \"government\", \"government\", \"government\", \"great\", \"great\", \"great\", \"great\", \"great\", \"great\", \"gross\", \"gross\", \"gun\", \"gun\", \"hadn\", \"hair\", \"ham\", \"hammarskjold\", \"head\", \"head\", \"head\", \"head\", \"head\", \"hearing\", \"hearing\", \"hearing\", \"heat\", \"heat\", \"heat\", \"heat\", \"heat\", \"heating\", \"heating\", \"high\", \"high\", \"high\", \"high\", \"high\", \"high\", \"hit\", \"hit\", \"home\", \"home\", \"home\", \"home\", \"home\", \"home\", \"house\", \"house\", \"house\", \"house\", \"house\", \"house\", \"inch\", \"inch\", \"inch\", \"inch\", \"income\", \"income\", \"income\", \"income\", \"india\", \"india\", \"india\", \"india\", \"industrial\", \"industrial\", \"industrial\", \"industrial\", \"industry\", \"industry\", \"industry\", \"industry\", \"industry\", \"insert\", \"insert\", \"inspired\", \"inspired\", \"insurance\", \"insurance\", \"interest\", \"interest\", \"interest\", \"interest\", \"interest\", \"interest\", \"interference\", \"interference\", \"interference\", \"interior\", \"interior\", \"interior\", \"inventories\", \"island\", \"island\", \"island\", \"island\", \"island\", \"john\", \"john\", \"john\", \"john\", \"john\", \"john\", \"join\", \"join\", \"journal\", \"katanga\", \"kennedy\", \"kennedy\", \"kennedy\", \"kennedy\", \"kennedy\", \"khrushchev\", \"knew\", \"knew\", \"knew\", \"knew\", \"know\", \"know\", \"know\", \"know\", \"know\", \"know\", \"labor\", \"labor\", \"labor\", \"labor\", \"labor\", \"labor\", \"laboratory\", \"laboratory\", \"laboratory\", \"laos\", \"laos\", \"law\", \"law\", \"law\", \"law\", \"law\", \"law\", \"leaders\", \"leaders\", \"leaders\", \"league\", \"league\", \"league\", \"left\", \"left\", \"left\", \"left\", \"left\", \"left\", \"level\", \"level\", \"level\", \"level\", \"level\", \"lever\", \"lever\", \"little\", \"little\", \"little\", \"little\", \"little\", \"ll\", \"ll\", \"ll\", \"ll\", \"local\", \"local\", \"local\", \"local\", \"local\", \"local\", \"looked\", \"looked\", \"looked\", \"lumber\", \"lumber\", \"machine\", \"machine\", \"machinery\", \"machinery\", \"machinery\", \"machines\", \"machines\", \"machines\", \"machines\", \"man\", \"man\", \"man\", \"man\", \"man\", \"man\", \"manufacturing\", \"manufacturing\", \"manufacturing\", \"market\", \"market\", \"market\", \"market\", \"marketing\", \"marketing\", \"materials\", \"materials\", \"materials\", \"materials\", \"mathematics\", \"mayor\", \"mayor\", \"mayor\", \"meat\", \"medical\", \"medical\", \"medical\", \"medical\", \"meeting\", \"meeting\", \"meeting\", \"meeting\", \"meeting\", \"members\", \"members\", \"members\", \"members\", \"members\", \"membership\", \"membership\", \"membership\", \"men\", \"men\", \"men\", \"men\", \"men\", \"men\", \"military\", \"military\", \"military\", \"million\", \"million\", \"million\", \"million\", \"million\", \"missile\", \"missile\", \"missiles\", \"missiles\", \"mitchell\", \"mitchell\", \"mitchell\", \"moscow\", \"mother\", \"mother\", \"motors\", \"motors\", \"mr\", \"mr\", \"mr\", \"mr\", \"mr\", \"mr\", \"mrs\", \"mrs\", \"mrs\", \"municipalities\", \"music\", \"music\", \"music\", \"musical\", \"musical\", \"nam\", \"national\", \"national\", \"national\", \"national\", \"national\", \"national\", \"nations\", \"nations\", \"nations\", \"nice\", \"night\", \"night\", \"night\", \"night\", \"night\", \"nixon\", \"nuclear\", \"nuclear\", \"old\", \"old\", \"old\", \"old\", \"old\", \"old\", \"opposition\", \"orchestra\", \"orchestra\", \"orchestra\", \"outdoor\", \"outdoor\", \"outdoor\", \"outdoors\", \"pale\", \"panels\", \"panels\", \"party\", \"party\", \"party\", \"pay\", \"pay\", \"pay\", \"pay\", \"pay\", \"pay\", \"payment\", \"payment\", \"payments\", \"payments\", \"payroll\", \"payroll\", \"people\", \"people\", \"people\", \"people\", \"people\", \"people\", \"performance\", \"performance\", \"performance\", \"performance\", \"piece\", \"piece\", \"piece\", \"piece\", \"piece\", \"pieces\", \"pieces\", \"pieces\", \"pieces\", \"pieces\", \"place\", \"place\", \"place\", \"place\", \"place\", \"place\", \"plan\", \"plan\", \"plan\", \"plan\", \"plan\", \"plan\", \"player\", \"player\", \"polaris\", \"political\", \"political\", \"political\", \"political\", \"pool\", \"pool\", \"pool\", \"pool\", \"pool\", \"premier\", \"premier\", \"president\", \"president\", \"president\", \"president\", \"president\", \"president\", \"prestige\", \"prestige\", \"problem\", \"problem\", \"problem\", \"problem\", \"problem\", \"problem\", \"procurement\", \"procurement\", \"production\", \"production\", \"production\", \"production\", \"production\", \"professors\", \"program\", \"program\", \"program\", \"program\", \"program\", \"program\", \"propaganda\", \"property\", \"property\", \"property\", \"provisions\", \"provisions\", \"public\", \"public\", \"public\", \"public\", \"public\", \"public\", \"puerto\", \"puerto\", \"rayburn\", \"recognition\", \"recognition\", \"recreation\", \"recreation\", \"recreation\", \"rehabilitation\", \"religious\", \"religious\", \"religious\", \"republican\", \"research\", \"research\", \"research\", \"research\", \"reunion\", \"revenues\", \"rhode\", \"rhode\", \"rhode\", \"rico\", \"rico\", \"right\", \"right\", \"right\", \"right\", \"right\", \"right\", \"roads\", \"roads\", \"roads\", \"roads\", \"roof\", \"roof\", \"room\", \"room\", \"room\", \"russia\", \"russia\", \"russia\", \"russia\", \"said\", \"said\", \"said\", \"said\", \"sales\", \"sales\", \"sales\", \"sat\", \"sat\", \"school\", \"school\", \"school\", \"school\", \"school\", \"school\", \"schools\", \"schools\", \"schools\", \"schools\", \"schools\", \"schools\", \"secretary\", \"secretary\", \"secretary\", \"secretary\", \"section\", \"section\", \"section\", \"section\", \"section\", \"service\", \"service\", \"service\", \"service\", \"service\", \"service\", \"services\", \"services\", \"services\", \"services\", \"set\", \"set\", \"set\", \"set\", \"set\", \"set\", \"shall\", \"shall\", \"shall\", \"shall\", \"shall\", \"shares\", \"shares\", \"shares\", \"shelter\", \"shelter\", \"sheraton\", \"shooting\", \"shooting\", \"site\", \"site\", \"site\", \"small\", \"small\", \"small\", \"small\", \"small\", \"small\", \"snow\", \"soviet\", \"soviet\", \"speaker\", \"speaker\", \"speaker\", \"staff\", \"staff\", \"staff\", \"staff\", \"staff\", \"state\", \"state\", \"state\", \"state\", \"state\", \"state\", \"states\", \"states\", \"states\", \"states\", \"states\", \"stations\", \"stations\", \"stations\", \"stations\", \"stock\", \"stock\", \"stock\", \"stock\", \"stock\", \"stock\", \"stockholders\", \"stockholders\", \"stocks\", \"stocks\", \"student\", \"student\", \"student\", \"student\", \"students\", \"students\", \"students\", \"students\", \"sugar\", \"sugar\", \"sugar\", \"swim\", \"swim\", \"symphony\", \"symphony\", \"system\", \"system\", \"system\", \"system\", \"system\", \"system\", \"systems\", \"systems\", \"tax\", \"tax\", \"tax\", \"taxes\", \"taxes\", \"taxpayers\", \"taxpayers\", \"teachers\", \"teachers\", \"team\", \"team\", \"team\", \"technical\", \"technical\", \"technical\", \"term\", \"term\", \"term\", \"term\", \"thereof\", \"thickness\", \"thickness\", \"think\", \"think\", \"think\", \"think\", \"thought\", \"thought\", \"thought\", \"thought\", \"thought\", \"told\", \"told\", \"tomato\", \"took\", \"took\", \"took\", \"took\", \"took\", \"tract\", \"transportation\", \"transportation\", \"transportation\", \"transportation\", \"treasury\", \"treasury\", \"trial\", \"trial\", \"troops\", \"trust\", \"trust\", \"trust\", \"trust\", \"trustees\", \"united\", \"united\", \"united\", \"united\", \"university\", \"university\", \"university\", \"university\", \"university\", \"use\", \"use\", \"use\", \"use\", \"use\", \"use\", \"ve\", \"ve\", \"ve\", \"ve\", \"vehicle\", \"vehicle\", \"vehicles\", \"vehicles\", \"version\", \"version\", \"version\", \"version\", \"version\", \"versions\", \"viet\", \"violence\", \"vocational\", \"vote\", \"vote\", \"vote\", \"vote\", \"waited\", \"walked\", \"wall\", \"wall\", \"wall\", \"wall\", \"wall\", \"wall\", \"war\", \"war\", \"war\", \"war\", \"war\", \"warwick\", \"wasn\", \"water\", \"water\", \"water\", \"water\", \"water\", \"way\", \"way\", \"way\", \"way\", \"way\", \"way\", \"week\", \"week\", \"week\", \"week\", \"week\", \"week\", \"went\", \"went\", \"went\", \"went\", \"west\", \"west\", \"west\", \"west\", \"west\", \"width\", \"wildlife\", \"windows\", \"windows\", \"woman\", \"won\", \"won\", \"won\", \"won\", \"work\", \"work\", \"work\", \"work\", \"work\", \"work\", \"world\", \"world\", \"world\", \"world\", \"world\", \"yankees\", \"yards\", \"young\", \"young\", \"young\", \"young\", \"young\", \"young\"]}, \"R\": 30, \"lambda.step\": 0.01, \"plot.opts\": {\"xlab\": \"PC1\", \"ylab\": \"PC2\"}, \"topic.order\": [1, 2, 3, 4, 5, 6]};\n",
       "\n",
       "function LDAvis_load_lib(url, callback){\n",
       "  var s = document.createElement('script');\n",
       "  s.src = url;\n",
       "  s.async = true;\n",
       "  s.onreadystatechange = s.onload = callback;\n",
       "  s.onerror = function(){console.warn(\"failed to load library \" + url);};\n",
       "  document.getElementsByTagName(\"head\")[0].appendChild(s);\n",
       "}\n",
       "\n",
       "if(typeof(LDAvis) !== \"undefined\"){\n",
       "   // already loaded: just create the visualization\n",
       "   !function(LDAvis){\n",
       "       new LDAvis(\"#\" + \"ldavis_el31920220254327256063198050\", ldavis_el31920220254327256063198050_data);\n",
       "   }(LDAvis);\n",
       "}else if(typeof define === \"function\" && define.amd){\n",
       "   // require.js is available: use it to load d3/LDAvis\n",
       "   require.config({paths: {d3: \"https://d3js.org/d3.v5\"}});\n",
       "   require([\"d3\"], function(d3){\n",
       "      window.d3 = d3;\n",
       "      LDAvis_load_lib(\"https://cdn.jsdelivr.net/gh/bmabey/pyLDAvis@3.4.0/pyLDAvis/js/ldavis.v3.0.0.js\", function(){\n",
       "        new LDAvis(\"#\" + \"ldavis_el31920220254327256063198050\", ldavis_el31920220254327256063198050_data);\n",
       "      });\n",
       "    });\n",
       "}else{\n",
       "    // require.js not available: dynamically load d3 & LDAvis\n",
       "    LDAvis_load_lib(\"https://d3js.org/d3.v5.js\", function(){\n",
       "         LDAvis_load_lib(\"https://cdn.jsdelivr.net/gh/bmabey/pyLDAvis@3.4.0/pyLDAvis/js/ldavis.v3.0.0.js\", function(){\n",
       "                 new LDAvis(\"#\" + \"ldavis_el31920220254327256063198050\", ldavis_el31920220254327256063198050_data);\n",
       "            })\n",
       "         });\n",
       "}\n",
       "</script>"
      ],
      "text/plain": [
       "<IPython.core.display.HTML object>"
      ]
     },
     "execution_count": 27,
     "metadata": {},
     "output_type": "execute_result"
    }
   ],
   "source": [
    "pyLDAvis.display(lda_display)"
   ]
  },
  {
   "cell_type": "markdown",
   "id": "a3d14c87",
   "metadata": {},
   "source": [
    "Q: What conclusions do you draw from the visualization above? Please address the principal component scatterplot and the salient terms graph.\n",
    "\n",
    "A: Topic 6 has the most estimated frequency within the selected topic.\n",
    "Topic 2 and 5 overlap, no other topics do. Word 'said' is in saliency for multiple topics."
   ]
  },
  {
   "cell_type": "code",
   "execution_count": null,
   "id": "c54295d6",
   "metadata": {},
   "outputs": [],
   "source": []
  }
 ],
 "metadata": {
  "kernelspec": {
   "display_name": "Python 3 (ipykernel)",
   "language": "python",
   "name": "python3"
  },
  "language_info": {
   "codemirror_mode": {
    "name": "ipython",
    "version": 3
   },
   "file_extension": ".py",
   "mimetype": "text/x-python",
   "name": "python",
   "nbconvert_exporter": "python",
   "pygments_lexer": "ipython3",
   "version": "3.9.5"
  }
 },
 "nbformat": 4,
 "nbformat_minor": 5
}
